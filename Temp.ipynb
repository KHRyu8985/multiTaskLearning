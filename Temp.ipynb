{
 "cells": [
  {
   "cell_type": "code",
   "execution_count": 127,
   "id": "fa86314d",
   "metadata": {},
   "outputs": [],
   "source": [
    "a = np.full([3, 4], np.inf)"
   ]
  },
  {
   "cell_type": "code",
   "execution_count": 128,
   "id": "26040ba3",
   "metadata": {},
   "outputs": [
    {
     "data": {
      "text/plain": [
       "array([[inf, inf, inf,  0.],\n",
       "       [inf, inf, inf,  0.],\n",
       "       [inf, inf, inf,  0.]])"
      ]
     },
     "execution_count": 128,
     "metadata": {},
     "output_type": "execute_result"
    }
   ],
   "source": [
    "a[:, 3] = 0\n",
    "a"
   ]
  },
  {
   "cell_type": "code",
   "execution_count": 119,
   "id": "82b0b81d",
   "metadata": {},
   "outputs": [
    {
     "name": "stdout",
     "output_type": "stream",
     "text": [
      "              . . .               \n",
      "        . . . . . . . . .         \n",
      "      . . . . . . . . . . .       \n",
      "    . . . . . . . . . . . . .     \n",
      "  . . . . . . . . . . . . . . .   \n",
      "  . . . . . . . . . . . . . . .   \n",
      "  . . . . . . . . . . . . . . .   \n",
      ". . . . . . . . . . . . . . . . . \n",
      ". . . . . . . . . . . . . . . . . \n",
      ". . . . . . . . . . . . . . . . . \n",
      "  . . . . . . . . . . . . . . .   \n",
      "  . . . . . . . . . . . . . . .   \n",
      "  . . . . . . . . . . . . . . .   \n",
      "    . . . . . . . . . . . . .     \n",
      "      . . . . . . . . . . .       \n",
      "        . . . . . . . . .         \n",
      "              . . .               \n"
     ]
    }
   ],
   "source": [
    "def drawCircle(r):\n",
    " \n",
    "    # Consider a rectangle of size N*N\n",
    "    N = 2 * r + 1\n",
    " \n",
    "    # Draw a square of size N*N.\n",
    "    for i in range(N):\n",
    "        for j in range(N):\n",
    " \n",
    "            # Start from the left most corner point\n",
    "            x = i - r\n",
    "            y = j - r\n",
    " \n",
    "            # If this point is inside the circle,\n",
    "            # print it\n",
    "            if x * x + y * y <= r * r + 1:\n",
    "                print(\".\", end = \" \")\n",
    "                 \n",
    "            # If outside the circle, print space\n",
    "            else:\n",
    "                print(\" \", end = \" \")\n",
    "        print()\n",
    " \n",
    "# Driver Code\n",
    "if __name__ == \"__main__\":\n",
    "    drawCircle(8)"
   ]
  },
  {
   "cell_type": "code",
   "execution_count": 116,
   "id": "a9dfa933",
   "metadata": {},
   "outputs": [
    {
     "data": {
      "text/plain": [
       "4"
      ]
     },
     "execution_count": 116,
     "metadata": {},
     "output_type": "execute_result"
    }
   ],
   "source": [
    "int(-16 % 10)"
   ]
  },
  {
   "cell_type": "code",
   "execution_count": 110,
   "id": "b226d079",
   "metadata": {},
   "outputs": [
    {
     "data": {
      "text/plain": [
       "3"
      ]
     },
     "execution_count": 110,
     "metadata": {},
     "output_type": "execute_result"
    }
   ],
   "source": [
    "a"
   ]
  },
  {
   "cell_type": "code",
   "execution_count": 106,
   "id": "2ef4e450",
   "metadata": {},
   "outputs": [
    {
     "name": "stdout",
     "output_type": "stream",
     "text": [
      "1 2 3\n"
     ]
    }
   ],
   "source": [
    "a = [1, 2, 3]\n",
    "def printme(a):\n",
    "    print (*a)\n",
    "printme(a)"
   ]
  },
  {
   "cell_type": "code",
   "execution_count": 107,
   "id": "9616108b",
   "metadata": {},
   "outputs": [
    {
     "data": {
      "text/plain": [
       "[1, 2]"
      ]
     },
     "execution_count": 107,
     "metadata": {},
     "output_type": "execute_result"
    }
   ],
   "source": [
    "a[:2]"
   ]
  },
  {
   "cell_type": "code",
   "execution_count": 104,
   "id": "a1d1e74c",
   "metadata": {},
   "outputs": [
    {
     "data": {
      "text/plain": [
       "6"
      ]
     },
     "execution_count": 104,
     "metadata": {},
     "output_type": "execute_result"
    }
   ],
   "source": [
    "np.sum([1, 2, 3])"
   ]
  },
  {
   "cell_type": "code",
   "execution_count": 102,
   "id": "451c33e2",
   "metadata": {},
   "outputs": [],
   "source": [
    "path = os.path.join(\n",
    "    'runs', 'a=2'\n",
    ")"
   ]
  },
  {
   "cell_type": "code",
   "execution_count": 103,
   "id": "7650e068",
   "metadata": {},
   "outputs": [
    {
     "data": {
      "text/plain": [
       "True"
      ]
     },
     "execution_count": 103,
     "metadata": {},
     "output_type": "execute_result"
    }
   ],
   "source": [
    "os.path.isdir(path)"
   ]
  },
  {
   "cell_type": "code",
   "execution_count": 94,
   "id": "95b327cf",
   "metadata": {},
   "outputs": [],
   "source": [
    "import numpy as np\n",
    "num_pool_layers = 4\n",
    "decoder_heads = 2"
   ]
  },
  {
   "cell_type": "code",
   "execution_count": 98,
   "id": "08fa1766",
   "metadata": {},
   "outputs": [
    {
     "name": "stdout",
     "output_type": "stream",
     "text": [
      "g_downsample [[0.0, 0.0], [0.0, 0.0], [0.0, 0.0], [0.0, 0.0]], \n",
      "g_upsample [[0.0, 0.0], [0.0, 0.0], [0.0, 0.0], [0.0, 0.0]],\n",
      "g_maxpool [0.0, 0.0, 0.0, 0.0], \n",
      "g_unpool[0.0, 0.0, 0.0, 0.0], \n",
      "atten_downsample [[[0.0, 0.0, 0.0], [0.0, 0.0, 0.0], [0.0, 0.0, 0.0], [0.0, 0.0, 0.0]], [[0.0, 0.0, 0.0], [0.0, 0.0, 0.0], [0.0, 0.0, 0.0], [0.0, 0.0, 0.0]]], \n",
      "atten_upsample [[[0.0, 0.0, 0.0], [0.0, 0.0, 0.0], [0.0, 0.0, 0.0], [0.0, 0.0, 0.0]], [[0.0, 0.0, 0.0], [0.0, 0.0, 0.0], [0.0, 0.0, 0.0], [0.0, 0.0, 0.0]]],\n",
      "atten_bottleneck [[0.0, 0.0, 0.0], [0.0, 0.0, 0.0]]\n"
     ]
    }
   ],
   "source": [
    "# create lists to hold intermediate values\n",
    "#### global ####\n",
    "g_downsample, g_upsample = (\n",
    "    np.zeros([num_pool_layers, 2])\n",
    "    for _ in range(2)\n",
    ")\n",
    "\n",
    "g_maxpool, g_unpool = (\n",
    "    np.zeros([num_pool_layers])\n",
    "    for _ in range(2)\n",
    ")\n",
    "\n",
    "g_bottleneck = [0, 0]\n",
    "\n",
    "#### task-specific ####\n",
    "atten_downsample, atten_upsample = (\n",
    "    np.zeros([decoder_heads, num_pool_layers, 3])\n",
    "    for _ in range(2)\n",
    ")\n",
    "\n",
    "atten_bottleneck = np.zeros([decoder_heads, 3])\n",
    "\n",
    "(\n",
    "    g_downsample, g_upsample,\n",
    "    g_maxpool, g_unpool, \n",
    "    atten_downsample, atten_upsample,\n",
    "    atten_bottleneck\n",
    ") = (\n",
    "    g_downsample.tolist(), g_upsample.tolist(),\n",
    "    g_maxpool.tolist(), g_unpool.tolist(), \n",
    "    atten_downsample.tolist(), atten_upsample.tolist(),\n",
    "    atten_bottleneck.tolist()\n",
    ")\n",
    "\n",
    "print (f'''g_downsample {g_downsample}, \n",
    "g_upsample {g_upsample},\n",
    "g_maxpool {g_maxpool}, \n",
    "g_unpool{g_unpool}, \n",
    "atten_downsample {atten_downsample}, \n",
    "atten_upsample {atten_upsample},\n",
    "atten_bottleneck {atten_bottleneck}''')"
   ]
  },
  {
   "cell_type": "code",
   "execution_count": null,
   "id": "32ce78ec",
   "metadata": {},
   "outputs": [],
   "source": [
    "g_downsample, g_upsample, g_maxpool, g_unpool = (\n",
    "    [0] * self.num_pool_layers for _ in range(4)\n",
    "    )\n",
    "\n",
    "# down/up-sample have structure [idx_layer][idx_intermediate]\n",
    "# 2 intermediate tasks\n",
    "for idx_layer in range(self.num_pool_layers):\n",
    "    g_downsample[idx_layer], g_upsample[idx_layer] = ([0] * 2 for _ in range(2))\n",
    "\n",
    "g_bottleneck = [0, 0]\n",
    "\n",
    "#### tasks ####\n",
    "atten_downsample, atten_upsample, atten_bottleneck = (\n",
    "    [0] * self.decoder_heads for _ in range(3)\n",
    ")\n",
    "\n",
    "# atten down/up-sample have structure [idx_task][idx_layer][idx_intermediate]\n",
    "# atten bottleneck has structure [idx_layer][idx_intermediate]\n",
    "# three intermediate steps\n",
    "for idx_task in range(self.decoder_heads):\n",
    "    atten_downsample[idx_task], atten_upsample[idx_task] = (\n",
    "        [0] * self.num_pool_layers for _ in range(2)\n",
    "    )\n",
    "for idx_task in range(self.decoder_heads):\n",
    "    atten_bottleneck[idx_task] = [0] * 3\n",
    "    for idx_layer in range(self.num_pool_layers):\n",
    "        atten_downsample[idx_task][idx_layer], atten_upsample[idx_task][idx_layer] = (\n",
    "            [0] * 3 for _ in range(2)\n",
    "        )"
   ]
  }
 ],
 "metadata": {
  "kernelspec": {
   "display_name": "Python 3",
   "language": "python",
   "name": "python3"
  },
  "language_info": {
   "codemirror_mode": {
    "name": "ipython",
    "version": 3
   },
   "file_extension": ".py",
   "mimetype": "text/x-python",
   "name": "python",
   "nbconvert_exporter": "python",
   "pygments_lexer": "ipython3",
   "version": "3.8.10"
  }
 },
 "nbformat": 4,
 "nbformat_minor": 5
}
