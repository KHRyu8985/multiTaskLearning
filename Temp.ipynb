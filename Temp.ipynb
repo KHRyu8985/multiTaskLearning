{
 "cells": [
  {
   "cell_type": "code",
   "execution_count": 1,
   "id": "d261bcb4",
   "metadata": {},
   "outputs": [],
   "source": [
    "from models import MTL_VarNet\n",
    "import torch"
   ]
  },
  {
   "cell_type": "code",
   "execution_count": 4,
   "id": "3720c24e",
   "metadata": {},
   "outputs": [],
   "source": [
    "with torch.no_grad():\n",
    "    the_model = MTL_VarNet(\n",
    "        datasets = ['div_coronal_pd_fs', 'div_coronal_pd'],\n",
    "        num_cascades = 12,\n",
    "        begin_blocks = 0,\n",
    "        shared_blocks = 2,\n",
    "        ).to('cpu')"
   ]
  },
  {
   "cell_type": "code",
   "execution_count": 5,
   "id": "12c33381",
   "metadata": {},
   "outputs": [
    {
     "data": {
      "text/plain": [
       "<All keys matched successfully>"
      ]
     },
     "execution_count": 5,
     "metadata": {},
     "output_type": "execute_result"
    }
   ],
   "source": [
    "the_model.load_state_dict(torch.load(\n",
    "    'models/MTL_dwa_varnet2_div_coronal_pd_fs_div_coronal_pd/N=107_N=481_l1.pt', \n",
    "    map_location = 'cpu',\n",
    "))"
   ]
  },
  {
   "cell_type": "code",
   "execution_count": 4,
   "id": "bb0fe028",
   "metadata": {},
   "outputs": [],
   "source": [
    "colors = ['hi']\n",
    "hi = [1, 2, 3]\n",
    "exec(\"%s = %s\" % ('colors', colors[0]))"
   ]
  },
  {
   "cell_type": "code",
   "execution_count": 5,
   "id": "8e04a040",
   "metadata": {},
   "outputs": [
    {
     "data": {
      "text/plain": [
       "[1, 2, 3]"
      ]
     },
     "execution_count": 5,
     "metadata": {},
     "output_type": "execute_result"
    }
   ],
   "source": [
    "colors"
   ]
  },
  {
   "cell_type": "code",
   "execution_count": 6,
   "id": "0f74cc3b",
   "metadata": {},
   "outputs": [],
   "source": [
    "import numpy as np"
   ]
  },
  {
   "cell_type": "code",
   "execution_count": 8,
   "id": "ac2d9ed0",
   "metadata": {},
   "outputs": [],
   "source": [
    "df_row = np.zeros([2, 6])"
   ]
  },
  {
   "cell_type": "code",
   "execution_count": 9,
   "id": "ffe8ba77",
   "metadata": {},
   "outputs": [],
   "source": [
    "df_row[:, 5] = [1, 2]"
   ]
  },
  {
   "cell_type": "code",
   "execution_count": 10,
   "id": "e988b97c",
   "metadata": {},
   "outputs": [
    {
     "data": {
      "text/plain": [
       "array([[0., 0., 0., 0., 0., 1.],\n",
       "       [0., 0., 0., 0., 0., 2.]])"
      ]
     },
     "execution_count": 10,
     "metadata": {},
     "output_type": "execute_result"
    }
   ],
   "source": [
    "df_row"
   ]
  },
  {
   "cell_type": "code",
   "execution_count": 12,
   "id": "29d1e43b",
   "metadata": {},
   "outputs": [],
   "source": [
    "df_row[:, 5] /= np.max(df_row[:, 5])"
   ]
  },
  {
   "cell_type": "code",
   "execution_count": 13,
   "id": "1e9834e5",
   "metadata": {},
   "outputs": [
    {
     "data": {
      "text/plain": [
       "array([[0. , 0. , 0. , 0. , 0. , 0.5],\n",
       "       [0. , 0. , 0. , 0. , 0. , 1. ]])"
      ]
     },
     "execution_count": 13,
     "metadata": {},
     "output_type": "execute_result"
    }
   ],
   "source": [
    "df_row"
   ]
  },
  {
   "cell_type": "code",
   "execution_count": null,
   "id": "85581e13",
   "metadata": {},
   "outputs": [],
   "source": []
  }
 ],
 "metadata": {
  "kernelspec": {
   "display_name": "Python 3",
   "language": "python",
   "name": "python3"
  },
  "language_info": {
   "codemirror_mode": {
    "name": "ipython",
    "version": 3
   },
   "file_extension": ".py",
   "mimetype": "text/x-python",
   "name": "python",
   "nbconvert_exporter": "python",
   "pygments_lexer": "ipython3",
   "version": "3.8.10"
  }
 },
 "nbformat": 4,
 "nbformat_minor": 5
}
