{
 "cells": [
  {
   "cell_type": "code",
   "execution_count": 1,
   "id": "ef74cab4",
   "metadata": {},
   "outputs": [],
   "source": [
    "import numpy as np"
   ]
  },
  {
   "cell_type": "code",
   "execution_count": 6,
   "id": "a91fd069",
   "metadata": {},
   "outputs": [
    {
     "data": {
      "text/plain": [
       "array([1, 4, 2, 5, 3, 6])"
      ]
     },
     "execution_count": 6,
     "metadata": {},
     "output_type": "execute_result"
    }
   ],
   "source": [
    "a = np.array([\n",
    "    [1, 2, 3],\n",
    "])\n",
    "\n",
    "b = np.array([\n",
    "    [4, 5, 6],\n",
    "])\n",
    "\n",
    "c = np.empty(6, dtype = int)\n",
    "\n",
    "c[0::2] = a\n",
    "c[1::2] = b\n",
    "c"
   ]
  },
  {
   "cell_type": "code",
   "execution_count": 3,
   "id": "b567f20f",
   "metadata": {},
   "outputs": [
    {
     "name": "stdout",
     "output_type": "stream",
     "text": [
      "[1 2 3]\n",
      "[4 3 2]\n"
     ]
    }
   ],
   "source": [
    "for i in a:\n",
    "    print(i)"
   ]
  },
  {
   "cell_type": "code",
   "execution_count": 4,
   "id": "9bc17295",
   "metadata": {},
   "outputs": [
    {
     "data": {
      "text/plain": [
       "(2, 3)"
      ]
     },
     "execution_count": 4,
     "metadata": {},
     "output_type": "execute_result"
    }
   ],
   "source": [
    "a.shape"
   ]
  },
  {
   "cell_type": "code",
   "execution_count": 49,
   "id": "5132cfab",
   "metadata": {},
   "outputs": [
    {
     "data": {
      "text/plain": [
       "array([3, 6, 2, 1, 5, 4, 7, 8, 3, 6, 2, 1, 5, 4, 7, 8])"
      ]
     },
     "execution_count": 49,
     "metadata": {},
     "output_type": "execute_result"
    }
   ],
   "source": [
    "np.tile(\n",
    "    b,\n",
    "    2\n",
    ")"
   ]
  },
  {
   "cell_type": "code",
   "execution_count": 2,
   "id": "6f800e4a",
   "metadata": {
    "collapsed": true
   },
   "outputs": [],
   "source": [
    "from torch.utils.data import Sampler"
   ]
  },
  {
   "cell_type": "code",
   "execution_count": 3,
   "id": "add64c8b",
   "metadata": {},
   "outputs": [],
   "source": [
    "from typing import List"
   ]
  },
  {
   "cell_type": "code",
   "execution_count": 4,
   "id": "c8046c19",
   "metadata": {},
   "outputs": [
    {
     "data": {
      "text/plain": [
       "array([0., 0., 0., 0., 0., 0., 0., 0., 0., 0., 1., 1., 1., 1., 1., 1.])"
      ]
     },
     "execution_count": 4,
     "metadata": {},
     "output_type": "execute_result"
    }
   ],
   "source": [
    "np.concatenate([np.full(10, 0), np.full(6, 1), np.empty(0)])"
   ]
  },
  {
   "cell_type": "code",
   "execution_count": 18,
   "id": "2e789f2e",
   "metadata": {},
   "outputs": [],
   "source": [
    "a = {\n",
    "    'd' : 1,\n",
    "    'b' : 2,\n",
    "    'a' : 3,\n",
    "    'z' : 5,\n",
    "    'y' : 20,\n",
    "    'n' : 200\n",
    "}"
   ]
  },
  {
   "cell_type": "code",
   "execution_count": 21,
   "id": "aff0c4b2",
   "metadata": {},
   "outputs": [
    {
     "name": "stdout",
     "output_type": "stream",
     "text": [
      "a 0\n",
      "b 1\n",
      "d 2\n",
      "n 3\n",
      "y 4\n",
      "z 5\n"
     ]
    }
   ],
   "source": [
    "for idx_key, key in enumerate(sorted(a)):\n",
    "    print(key, idx_key)"
   ]
  },
  {
   "cell_type": "code",
   "execution_count": 10,
   "id": "04de2930",
   "metadata": {},
   "outputs": [],
   "source": [
    "b = {\n",
    "    label: np.arange(len(labels))[labels == label].tolist()\n",
    "    for label in set(labels)\n",
    "    }"
   ]
  },
  {
   "cell_type": "code",
   "execution_count": 43,
   "id": "34fdab05",
   "metadata": {},
   "outputs": [],
   "source": [
    "b = np.array([\n",
    "    [1, 2, 3, 4,],\n",
    "    [5, 6, 7, 8],\n",
    "])\n",
    "b = b.flatten()"
   ]
  },
  {
   "cell_type": "code",
   "execution_count": 44,
   "id": "ab5e7da3",
   "metadata": {},
   "outputs": [],
   "source": [
    "np.random.shuffle(b)"
   ]
  },
  {
   "cell_type": "code",
   "execution_count": 45,
   "id": "5149264e",
   "metadata": {},
   "outputs": [
    {
     "data": {
      "text/plain": [
       "array([3, 6, 2, 1, 5, 4, 7, 8])"
      ]
     },
     "execution_count": 45,
     "metadata": {},
     "output_type": "execute_result"
    }
   ],
   "source": [
    "b"
   ]
  },
  {
   "cell_type": "code",
   "execution_count": 53,
   "id": "0b5f98be",
   "metadata": {},
   "outputs": [],
   "source": [
    "def class_labels(ratios):\n",
    "    # self.ratios keys are in insertion order for python ge 3.7\n",
    "    labels = np.empty(sum(ratios.values())).astype(int)\n",
    "    # will be like [0, 0, 0, 1, 1, 1, 1, 1, ...]\n",
    "    start = 0\n",
    "    for idx_contrast, contrast_count in enumerate(ratios.values()):\n",
    "        labels[start : start + contrast_count] = np.full(\n",
    "            contrast_count, idx_contrast\n",
    "            )\n",
    "        start += contrast_count\n",
    "    return labels"
   ]
  },
  {
   "cell_type": "code",
   "execution_count": 54,
   "id": "91aa3c9e",
   "metadata": {},
   "outputs": [
    {
     "data": {
      "text/plain": [
       "array([0, 1, 1, 2, 2, 2, 3, 3, 3, 3, 3, 4, 4, 4, 4, 4, 4, 4, 4, 4, 4, 4,\n",
       "       4, 4, 4, 4, 4, 4, 4, 4, 4, 5, 5, 5, 5, 5, 5, 5, 5, 5, 5, 5, 5, 5,\n",
       "       5, 5, 5, 5, 5, 5, 5, 5, 5, 5, 5, 5, 5, 5, 5, 5, 5, 5, 5, 5, 5, 5,\n",
       "       5, 5, 5, 5, 5, 5, 5, 5, 5, 5, 5, 5, 5, 5, 5, 5, 5, 5, 5, 5, 5, 5,\n",
       "       5, 5, 5, 5, 5, 5, 5, 5, 5, 5, 5, 5, 5, 5, 5, 5, 5, 5, 5, 5, 5, 5,\n",
       "       5, 5, 5, 5, 5, 5, 5, 5, 5, 5, 5, 5, 5, 5, 5, 5, 5, 5, 5, 5, 5, 5,\n",
       "       5, 5, 5, 5, 5, 5, 5, 5, 5, 5, 5, 5, 5, 5, 5, 5, 5, 5, 5, 5, 5, 5,\n",
       "       5, 5, 5, 5, 5, 5, 5, 5, 5, 5, 5, 5, 5, 5, 5, 5, 5, 5, 5, 5, 5, 5,\n",
       "       5, 5, 5, 5, 5, 5, 5, 5, 5, 5, 5, 5, 5, 5, 5, 5, 5, 5, 5, 5, 5, 5,\n",
       "       5, 5, 5, 5, 5, 5, 5, 5, 5, 5, 5, 5, 5, 5, 5, 5, 5, 5, 5, 5, 5, 5,\n",
       "       5, 5, 5, 5, 5, 5, 5, 5, 5, 5, 5])"
      ]
     },
     "execution_count": 54,
     "metadata": {},
     "output_type": "execute_result"
    }
   ],
   "source": [
    "class_labels(a)"
   ]
  },
  {
   "cell_type": "code",
   "execution_count": 51,
   "id": "0fe67eb9",
   "metadata": {},
   "outputs": [],
   "source": [
    "def class_labels(ratios):\n",
    "    # self.ratios keys are in insertion order for python ge 3.7\n",
    "    labels = []\n",
    "    # will be like [0, 0, 0, 1, 1, 1, 1, 1, ...]\n",
    "    for idx_contrast, contrast_count in enumerate(ratios.values()):\n",
    "        labels.append(\n",
    "            np.full(contrast_count, idx_contrast)\n",
    "            )\n",
    "    labels = np.concatenate(labels)\n",
    "    return labels"
   ]
  },
  {
   "cell_type": "code",
   "execution_count": 25,
   "id": "74c3626f",
   "metadata": {},
   "outputs": [
    {
     "name": "stdout",
     "output_type": "stream",
     "text": [
      "0 1\n",
      "1 2\n",
      "2 3\n",
      "3 5\n",
      "4 20\n",
      "5 200\n"
     ]
    }
   ],
   "source": [
    "for idx, value in enumerate(a.values()):\n",
    "    print(idx, value)"
   ]
  },
  {
   "cell_type": "code",
   "execution_count": 3,
   "id": "219b495c",
   "metadata": {},
   "outputs": [
    {
     "data": {
      "text/html": [
       "\n",
       "    <div class=\"bk-root\">\n",
       "        <a href=\"https://bokeh.org\" target=\"_blank\" class=\"bk-logo bk-logo-small bk-logo-notebook\"></a>\n",
       "        <span id=\"1003\">Loading BokehJS ...</span>\n",
       "    </div>"
      ]
     },
     "metadata": {},
     "output_type": "display_data"
    },
    {
     "data": {
      "application/javascript": [
       "\n",
       "(function(root) {\n",
       "  function now() {\n",
       "    return new Date();\n",
       "  }\n",
       "\n",
       "  var force = true;\n",
       "\n",
       "  if (typeof root._bokeh_onload_callbacks === \"undefined\" || force === true) {\n",
       "    root._bokeh_onload_callbacks = [];\n",
       "    root._bokeh_is_loading = undefined;\n",
       "  }\n",
       "\n",
       "  var JS_MIME_TYPE = 'application/javascript';\n",
       "  var HTML_MIME_TYPE = 'text/html';\n",
       "  var EXEC_MIME_TYPE = 'application/vnd.bokehjs_exec.v0+json';\n",
       "  var CLASS_NAME = 'output_bokeh rendered_html';\n",
       "\n",
       "  /**\n",
       "   * Render data to the DOM node\n",
       "   */\n",
       "  function render(props, node) {\n",
       "    var script = document.createElement(\"script\");\n",
       "    node.appendChild(script);\n",
       "  }\n",
       "\n",
       "  /**\n",
       "   * Handle when an output is cleared or removed\n",
       "   */\n",
       "  function handleClearOutput(event, handle) {\n",
       "    var cell = handle.cell;\n",
       "\n",
       "    var id = cell.output_area._bokeh_element_id;\n",
       "    var server_id = cell.output_area._bokeh_server_id;\n",
       "    // Clean up Bokeh references\n",
       "    if (id != null && id in Bokeh.index) {\n",
       "      Bokeh.index[id].model.document.clear();\n",
       "      delete Bokeh.index[id];\n",
       "    }\n",
       "\n",
       "    if (server_id !== undefined) {\n",
       "      // Clean up Bokeh references\n",
       "      var cmd = \"from bokeh.io.state import curstate; print(curstate().uuid_to_server['\" + server_id + \"'].get_sessions()[0].document.roots[0]._id)\";\n",
       "      cell.notebook.kernel.execute(cmd, {\n",
       "        iopub: {\n",
       "          output: function(msg) {\n",
       "            var id = msg.content.text.trim();\n",
       "            if (id in Bokeh.index) {\n",
       "              Bokeh.index[id].model.document.clear();\n",
       "              delete Bokeh.index[id];\n",
       "            }\n",
       "          }\n",
       "        }\n",
       "      });\n",
       "      // Destroy server and session\n",
       "      var cmd = \"import bokeh.io.notebook as ion; ion.destroy_server('\" + server_id + \"')\";\n",
       "      cell.notebook.kernel.execute(cmd);\n",
       "    }\n",
       "  }\n",
       "\n",
       "  /**\n",
       "   * Handle when a new output is added\n",
       "   */\n",
       "  function handleAddOutput(event, handle) {\n",
       "    var output_area = handle.output_area;\n",
       "    var output = handle.output;\n",
       "\n",
       "    // limit handleAddOutput to display_data with EXEC_MIME_TYPE content only\n",
       "    if ((output.output_type != \"display_data\") || (!Object.prototype.hasOwnProperty.call(output.data, EXEC_MIME_TYPE))) {\n",
       "      return\n",
       "    }\n",
       "\n",
       "    var toinsert = output_area.element.find(\".\" + CLASS_NAME.split(' ')[0]);\n",
       "\n",
       "    if (output.metadata[EXEC_MIME_TYPE][\"id\"] !== undefined) {\n",
       "      toinsert[toinsert.length - 1].firstChild.textContent = output.data[JS_MIME_TYPE];\n",
       "      // store reference to embed id on output_area\n",
       "      output_area._bokeh_element_id = output.metadata[EXEC_MIME_TYPE][\"id\"];\n",
       "    }\n",
       "    if (output.metadata[EXEC_MIME_TYPE][\"server_id\"] !== undefined) {\n",
       "      var bk_div = document.createElement(\"div\");\n",
       "      bk_div.innerHTML = output.data[HTML_MIME_TYPE];\n",
       "      var script_attrs = bk_div.children[0].attributes;\n",
       "      for (var i = 0; i < script_attrs.length; i++) {\n",
       "        toinsert[toinsert.length - 1].firstChild.setAttribute(script_attrs[i].name, script_attrs[i].value);\n",
       "        toinsert[toinsert.length - 1].firstChild.textContent = bk_div.children[0].textContent\n",
       "      }\n",
       "      // store reference to server id on output_area\n",
       "      output_area._bokeh_server_id = output.metadata[EXEC_MIME_TYPE][\"server_id\"];\n",
       "    }\n",
       "  }\n",
       "\n",
       "  function register_renderer(events, OutputArea) {\n",
       "\n",
       "    function append_mime(data, metadata, element) {\n",
       "      // create a DOM node to render to\n",
       "      var toinsert = this.create_output_subarea(\n",
       "        metadata,\n",
       "        CLASS_NAME,\n",
       "        EXEC_MIME_TYPE\n",
       "      );\n",
       "      this.keyboard_manager.register_events(toinsert);\n",
       "      // Render to node\n",
       "      var props = {data: data, metadata: metadata[EXEC_MIME_TYPE]};\n",
       "      render(props, toinsert[toinsert.length - 1]);\n",
       "      element.append(toinsert);\n",
       "      return toinsert\n",
       "    }\n",
       "\n",
       "    /* Handle when an output is cleared or removed */\n",
       "    events.on('clear_output.CodeCell', handleClearOutput);\n",
       "    events.on('delete.Cell', handleClearOutput);\n",
       "\n",
       "    /* Handle when a new output is added */\n",
       "    events.on('output_added.OutputArea', handleAddOutput);\n",
       "\n",
       "    /**\n",
       "     * Register the mime type and append_mime function with output_area\n",
       "     */\n",
       "    OutputArea.prototype.register_mime_type(EXEC_MIME_TYPE, append_mime, {\n",
       "      /* Is output safe? */\n",
       "      safe: true,\n",
       "      /* Index of renderer in `output_area.display_order` */\n",
       "      index: 0\n",
       "    });\n",
       "  }\n",
       "\n",
       "  // register the mime type if in Jupyter Notebook environment and previously unregistered\n",
       "  if (root.Jupyter !== undefined) {\n",
       "    var events = require('base/js/events');\n",
       "    var OutputArea = require('notebook/js/outputarea').OutputArea;\n",
       "\n",
       "    if (OutputArea.prototype.mime_types().indexOf(EXEC_MIME_TYPE) == -1) {\n",
       "      register_renderer(events, OutputArea);\n",
       "    }\n",
       "  }\n",
       "\n",
       "  \n",
       "  if (typeof (root._bokeh_timeout) === \"undefined\" || force === true) {\n",
       "    root._bokeh_timeout = Date.now() + 5000;\n",
       "    root._bokeh_failed_load = false;\n",
       "  }\n",
       "\n",
       "  var NB_LOAD_WARNING = {'data': {'text/html':\n",
       "     \"<div style='background-color: #fdd'>\\n\"+\n",
       "     \"<p>\\n\"+\n",
       "     \"BokehJS does not appear to have successfully loaded. If loading BokehJS from CDN, this \\n\"+\n",
       "     \"may be due to a slow or bad network connection. Possible fixes:\\n\"+\n",
       "     \"</p>\\n\"+\n",
       "     \"<ul>\\n\"+\n",
       "     \"<li>re-rerun `output_notebook()` to attempt to load from CDN again, or</li>\\n\"+\n",
       "     \"<li>use INLINE resources instead, as so:</li>\\n\"+\n",
       "     \"</ul>\\n\"+\n",
       "     \"<code>\\n\"+\n",
       "     \"from bokeh.resources import INLINE\\n\"+\n",
       "     \"output_notebook(resources=INLINE)\\n\"+\n",
       "     \"</code>\\n\"+\n",
       "     \"</div>\"}};\n",
       "\n",
       "  function display_loaded() {\n",
       "    var el = document.getElementById(\"1003\");\n",
       "    if (el != null) {\n",
       "      el.textContent = \"BokehJS is loading...\";\n",
       "    }\n",
       "    if (root.Bokeh !== undefined) {\n",
       "      if (el != null) {\n",
       "        el.textContent = \"BokehJS \" + root.Bokeh.version + \" successfully loaded.\";\n",
       "      }\n",
       "    } else if (Date.now() < root._bokeh_timeout) {\n",
       "      setTimeout(display_loaded, 100)\n",
       "    }\n",
       "  }\n",
       "\n",
       "\n",
       "  function run_callbacks() {\n",
       "    try {\n",
       "      root._bokeh_onload_callbacks.forEach(function(callback) {\n",
       "        if (callback != null)\n",
       "          callback();\n",
       "      });\n",
       "    } finally {\n",
       "      delete root._bokeh_onload_callbacks\n",
       "    }\n",
       "    console.debug(\"Bokeh: all callbacks have finished\");\n",
       "  }\n",
       "\n",
       "  function load_libs(css_urls, js_urls, callback) {\n",
       "    if (css_urls == null) css_urls = [];\n",
       "    if (js_urls == null) js_urls = [];\n",
       "\n",
       "    root._bokeh_onload_callbacks.push(callback);\n",
       "    if (root._bokeh_is_loading > 0) {\n",
       "      console.debug(\"Bokeh: BokehJS is being loaded, scheduling callback at\", now());\n",
       "      return null;\n",
       "    }\n",
       "    if (js_urls == null || js_urls.length === 0) {\n",
       "      run_callbacks();\n",
       "      return null;\n",
       "    }\n",
       "    console.debug(\"Bokeh: BokehJS not loaded, scheduling load and callback at\", now());\n",
       "    root._bokeh_is_loading = css_urls.length + js_urls.length;\n",
       "\n",
       "    function on_load() {\n",
       "      root._bokeh_is_loading--;\n",
       "      if (root._bokeh_is_loading === 0) {\n",
       "        console.debug(\"Bokeh: all BokehJS libraries/stylesheets loaded\");\n",
       "        run_callbacks()\n",
       "      }\n",
       "    }\n",
       "\n",
       "    function on_error(url) {\n",
       "      console.error(\"failed to load \" + url);\n",
       "    }\n",
       "\n",
       "    for (let i = 0; i < css_urls.length; i++) {\n",
       "      const url = css_urls[i];\n",
       "      const element = document.createElement(\"link\");\n",
       "      element.onload = on_load;\n",
       "      element.onerror = on_error.bind(null, url);\n",
       "      element.rel = \"stylesheet\";\n",
       "      element.type = \"text/css\";\n",
       "      element.href = url;\n",
       "      console.debug(\"Bokeh: injecting link tag for BokehJS stylesheet: \", url);\n",
       "      document.body.appendChild(element);\n",
       "    }\n",
       "\n",
       "    const hashes = {\"https://cdn.bokeh.org/bokeh/release/bokeh-2.3.2.min.js\": \"XypntL49z55iwGVUW4qsEu83zKL3XEcz0MjuGOQ9SlaaQ68X/g+k1FcioZi7oQAc\", \"https://cdn.bokeh.org/bokeh/release/bokeh-tables-2.3.2.min.js\": \"bEsM86IHGDTLCS0Zod8a8WM6Y4+lafAL/eSiyQcuPzinmWNgNO2/olUF0Z2Dkn5i\", \"https://cdn.bokeh.org/bokeh/release/bokeh-widgets-2.3.2.min.js\": \"TX0gSQTdXTTeScqxj6PVQxTiRW8DOoGVwinyi1D3kxv7wuxQ02XkOxv0xwiypcAH\"};\n",
       "\n",
       "    for (let i = 0; i < js_urls.length; i++) {\n",
       "      const url = js_urls[i];\n",
       "      const element = document.createElement('script');\n",
       "      element.onload = on_load;\n",
       "      element.onerror = on_error.bind(null, url);\n",
       "      element.async = false;\n",
       "      element.src = url;\n",
       "      if (url in hashes) {\n",
       "        element.crossOrigin = \"anonymous\";\n",
       "        element.integrity = \"sha384-\" + hashes[url];\n",
       "      }\n",
       "      console.debug(\"Bokeh: injecting script tag for BokehJS library: \", url);\n",
       "      document.head.appendChild(element);\n",
       "    }\n",
       "  };\n",
       "\n",
       "  function inject_raw_css(css) {\n",
       "    const element = document.createElement(\"style\");\n",
       "    element.appendChild(document.createTextNode(css));\n",
       "    document.body.appendChild(element);\n",
       "  }\n",
       "\n",
       "  \n",
       "  var js_urls = [\"https://cdn.bokeh.org/bokeh/release/bokeh-2.3.2.min.js\", \"https://cdn.bokeh.org/bokeh/release/bokeh-widgets-2.3.2.min.js\", \"https://cdn.bokeh.org/bokeh/release/bokeh-tables-2.3.2.min.js\"];\n",
       "  var css_urls = [];\n",
       "  \n",
       "\n",
       "  var inline_js = [\n",
       "    function(Bokeh) {\n",
       "      Bokeh.set_log_level(\"info\");\n",
       "    },\n",
       "    function(Bokeh) {\n",
       "    \n",
       "    \n",
       "    }\n",
       "  ];\n",
       "\n",
       "  function run_inline_js() {\n",
       "    \n",
       "    if (root.Bokeh !== undefined || force === true) {\n",
       "      \n",
       "    for (var i = 0; i < inline_js.length; i++) {\n",
       "      inline_js[i].call(root, root.Bokeh);\n",
       "    }\n",
       "    if (force === true) {\n",
       "        display_loaded();\n",
       "      }} else if (Date.now() < root._bokeh_timeout) {\n",
       "      setTimeout(run_inline_js, 100);\n",
       "    } else if (!root._bokeh_failed_load) {\n",
       "      console.log(\"Bokeh: BokehJS failed to load within specified timeout.\");\n",
       "      root._bokeh_failed_load = true;\n",
       "    } else if (force !== true) {\n",
       "      var cell = $(document.getElementById(\"1003\")).parents('.cell').data().cell;\n",
       "      cell.output_area.append_execute_result(NB_LOAD_WARNING)\n",
       "    }\n",
       "\n",
       "  }\n",
       "\n",
       "  if (root._bokeh_is_loading === 0) {\n",
       "    console.debug(\"Bokeh: BokehJS loaded, going straight to plotting\");\n",
       "    run_inline_js();\n",
       "  } else {\n",
       "    load_libs(css_urls, js_urls, function() {\n",
       "      console.debug(\"Bokeh: BokehJS plotting callback run at\", now());\n",
       "      run_inline_js();\n",
       "    });\n",
       "  }\n",
       "}(window));"
      ],
      "application/vnd.bokehjs_load.v0+json": "\n(function(root) {\n  function now() {\n    return new Date();\n  }\n\n  var force = true;\n\n  if (typeof root._bokeh_onload_callbacks === \"undefined\" || force === true) {\n    root._bokeh_onload_callbacks = [];\n    root._bokeh_is_loading = undefined;\n  }\n\n  \n\n  \n  if (typeof (root._bokeh_timeout) === \"undefined\" || force === true) {\n    root._bokeh_timeout = Date.now() + 5000;\n    root._bokeh_failed_load = false;\n  }\n\n  var NB_LOAD_WARNING = {'data': {'text/html':\n     \"<div style='background-color: #fdd'>\\n\"+\n     \"<p>\\n\"+\n     \"BokehJS does not appear to have successfully loaded. If loading BokehJS from CDN, this \\n\"+\n     \"may be due to a slow or bad network connection. Possible fixes:\\n\"+\n     \"</p>\\n\"+\n     \"<ul>\\n\"+\n     \"<li>re-rerun `output_notebook()` to attempt to load from CDN again, or</li>\\n\"+\n     \"<li>use INLINE resources instead, as so:</li>\\n\"+\n     \"</ul>\\n\"+\n     \"<code>\\n\"+\n     \"from bokeh.resources import INLINE\\n\"+\n     \"output_notebook(resources=INLINE)\\n\"+\n     \"</code>\\n\"+\n     \"</div>\"}};\n\n  function display_loaded() {\n    var el = document.getElementById(\"1003\");\n    if (el != null) {\n      el.textContent = \"BokehJS is loading...\";\n    }\n    if (root.Bokeh !== undefined) {\n      if (el != null) {\n        el.textContent = \"BokehJS \" + root.Bokeh.version + \" successfully loaded.\";\n      }\n    } else if (Date.now() < root._bokeh_timeout) {\n      setTimeout(display_loaded, 100)\n    }\n  }\n\n\n  function run_callbacks() {\n    try {\n      root._bokeh_onload_callbacks.forEach(function(callback) {\n        if (callback != null)\n          callback();\n      });\n    } finally {\n      delete root._bokeh_onload_callbacks\n    }\n    console.debug(\"Bokeh: all callbacks have finished\");\n  }\n\n  function load_libs(css_urls, js_urls, callback) {\n    if (css_urls == null) css_urls = [];\n    if (js_urls == null) js_urls = [];\n\n    root._bokeh_onload_callbacks.push(callback);\n    if (root._bokeh_is_loading > 0) {\n      console.debug(\"Bokeh: BokehJS is being loaded, scheduling callback at\", now());\n      return null;\n    }\n    if (js_urls == null || js_urls.length === 0) {\n      run_callbacks();\n      return null;\n    }\n    console.debug(\"Bokeh: BokehJS not loaded, scheduling load and callback at\", now());\n    root._bokeh_is_loading = css_urls.length + js_urls.length;\n\n    function on_load() {\n      root._bokeh_is_loading--;\n      if (root._bokeh_is_loading === 0) {\n        console.debug(\"Bokeh: all BokehJS libraries/stylesheets loaded\");\n        run_callbacks()\n      }\n    }\n\n    function on_error(url) {\n      console.error(\"failed to load \" + url);\n    }\n\n    for (let i = 0; i < css_urls.length; i++) {\n      const url = css_urls[i];\n      const element = document.createElement(\"link\");\n      element.onload = on_load;\n      element.onerror = on_error.bind(null, url);\n      element.rel = \"stylesheet\";\n      element.type = \"text/css\";\n      element.href = url;\n      console.debug(\"Bokeh: injecting link tag for BokehJS stylesheet: \", url);\n      document.body.appendChild(element);\n    }\n\n    const hashes = {\"https://cdn.bokeh.org/bokeh/release/bokeh-2.3.2.min.js\": \"XypntL49z55iwGVUW4qsEu83zKL3XEcz0MjuGOQ9SlaaQ68X/g+k1FcioZi7oQAc\", \"https://cdn.bokeh.org/bokeh/release/bokeh-tables-2.3.2.min.js\": \"bEsM86IHGDTLCS0Zod8a8WM6Y4+lafAL/eSiyQcuPzinmWNgNO2/olUF0Z2Dkn5i\", \"https://cdn.bokeh.org/bokeh/release/bokeh-widgets-2.3.2.min.js\": \"TX0gSQTdXTTeScqxj6PVQxTiRW8DOoGVwinyi1D3kxv7wuxQ02XkOxv0xwiypcAH\"};\n\n    for (let i = 0; i < js_urls.length; i++) {\n      const url = js_urls[i];\n      const element = document.createElement('script');\n      element.onload = on_load;\n      element.onerror = on_error.bind(null, url);\n      element.async = false;\n      element.src = url;\n      if (url in hashes) {\n        element.crossOrigin = \"anonymous\";\n        element.integrity = \"sha384-\" + hashes[url];\n      }\n      console.debug(\"Bokeh: injecting script tag for BokehJS library: \", url);\n      document.head.appendChild(element);\n    }\n  };\n\n  function inject_raw_css(css) {\n    const element = document.createElement(\"style\");\n    element.appendChild(document.createTextNode(css));\n    document.body.appendChild(element);\n  }\n\n  \n  var js_urls = [\"https://cdn.bokeh.org/bokeh/release/bokeh-2.3.2.min.js\", \"https://cdn.bokeh.org/bokeh/release/bokeh-widgets-2.3.2.min.js\", \"https://cdn.bokeh.org/bokeh/release/bokeh-tables-2.3.2.min.js\"];\n  var css_urls = [];\n  \n\n  var inline_js = [\n    function(Bokeh) {\n      Bokeh.set_log_level(\"info\");\n    },\n    function(Bokeh) {\n    \n    \n    }\n  ];\n\n  function run_inline_js() {\n    \n    if (root.Bokeh !== undefined || force === true) {\n      \n    for (var i = 0; i < inline_js.length; i++) {\n      inline_js[i].call(root, root.Bokeh);\n    }\n    if (force === true) {\n        display_loaded();\n      }} else if (Date.now() < root._bokeh_timeout) {\n      setTimeout(run_inline_js, 100);\n    } else if (!root._bokeh_failed_load) {\n      console.log(\"Bokeh: BokehJS failed to load within specified timeout.\");\n      root._bokeh_failed_load = true;\n    } else if (force !== true) {\n      var cell = $(document.getElementById(\"1003\")).parents('.cell').data().cell;\n      cell.output_area.append_execute_result(NB_LOAD_WARNING)\n    }\n\n  }\n\n  if (root._bokeh_is_loading === 0) {\n    console.debug(\"Bokeh: BokehJS loaded, going straight to plotting\");\n    run_inline_js();\n  } else {\n    load_libs(css_urls, js_urls, function() {\n      console.debug(\"Bokeh: BokehJS plotting callback run at\", now());\n      run_inline_js();\n    });\n  }\n}(window));"
     },
     "metadata": {},
     "output_type": "display_data"
    }
   ],
   "source": [
    "import bokeh.plotting\n",
    "bokeh.io.output_notebook()\n",
    "import csv\n",
    "import pandas as pd\n",
    "from pathlib import Path\n",
    "import os\n",
    "import numpy as np\n",
    "from bokeh.palettes import Colorblind7"
   ]
  },
  {
   "cell_type": "code",
   "execution_count": 4,
   "id": "cd50a639",
   "metadata": {},
   "outputs": [
    {
     "data": {
      "text/plain": [
       "('#0072B2', '#E69F00', '#F0E442', '#009E73', '#56B4E9', '#D55E00', '#CC79A7')"
      ]
     },
     "execution_count": 4,
     "metadata": {},
     "output_type": "execute_result"
    }
   ],
   "source": [
    "Colorblind7"
   ]
  },
  {
   "cell_type": "code",
   "execution_count": 220,
   "id": "253ae4a0",
   "metadata": {},
   "outputs": [],
   "source": [
    "path1 = os.path.join(\n",
    "    'models/MTL_naive_varnet0:2_div_coronal_pd_fs_div_coronal_pd', \n",
    "    'summary_div_coronal_pd_fs.csv'\n",
    ")\n",
    "\n",
    "path2 = os.path.join(\n",
    "    'models/MTL_naive_varnet0:2_div_coronal_pd_fs_div_coronal_pd',\n",
    "    'summary_div_coronal_pd.csv'\n",
    ")\n",
    "summary_file1 = Path(path1)\n",
    "summary_file2 = Path(path2)"
   ]
  },
  {
   "cell_type": "code",
   "execution_count": 221,
   "id": "0cd2b8b1",
   "metadata": {},
   "outputs": [],
   "source": [
    "df1 = pd.read_csv(summary_file1)\n",
    "df2 = pd.read_csv(summary_file2)"
   ]
  },
  {
   "cell_type": "code",
   "execution_count": 218,
   "id": "04c6216b",
   "metadata": {},
   "outputs": [
    {
     "data": {
      "text/plain": [
       "(       loss      ssim       psnr     nrmse  div_coronal_pd_fs  div_coronal_pd\n",
       " 0  0.039891  0.812367  31.642353  0.157984           0.064386             1.0\n",
       " 2  0.033093  0.848451  33.234558  0.131297           0.215292             1.0\n",
       " 1  0.032012  0.855036  33.682333  0.124817           0.509054             1.0\n",
       " 3  0.031127  0.860630  33.996669  0.120426           1.000000             1.0,\n",
       "        ssim       psnr  div_coronal_pd_fs  div_coronal_pd\n",
       " 2  0.898562  34.133462           0.215292             1.0\n",
       " 1  0.902340  34.374319           0.509054             1.0\n",
       " 3  0.902684  34.348572           1.000000             1.0)"
      ]
     },
     "execution_count": 218,
     "metadata": {},
     "output_type": "execute_result"
    }
   ],
   "source": [
    "df1 = df1.sort_values(by=[f'div_coronal_pd_fs'])\n",
    "df2 = df2.sort_values(by=[f'div_coronal_pd_fs'])\n",
    "df1 = df1.drop('Unnamed: 0', axis = 1)\n",
    "df2 = df2.drop('Unnamed: 0', axis = 1)\n",
    "df2 = df2.drop(0)\n",
    "df2 = df2.drop(['loss', 'nrmse'], axis = 1)\n",
    "l = [df1, df2]\n",
    "df1, df2"
   ]
  },
  {
   "cell_type": "code",
   "execution_count": 214,
   "id": "957f6d27",
   "metadata": {},
   "outputs": [
    {
     "data": {
      "text/plain": [
       "(   loss  ssim  psnr  nrmse\n",
       " 0   0.0   0.0   0.0    0.0\n",
       " 1   0.0   0.0   0.0    0.0\n",
       " 2   0.0   0.0   0.0    0.0\n",
       " 3   0.0   0.0   0.0    0.0,\n",
       "    loss  ssim  psnr  nrmse\n",
       " 0   0.0   0.0   0.0    0.0\n",
       " 1   0.0   0.0   0.0    0.0\n",
       " 2   0.0   0.0   0.0    0.0\n",
       " 3   0.0   0.0   0.0    0.0)"
      ]
     },
     "execution_count": 214,
     "metadata": {},
     "output_type": "execute_result"
    }
   ],
   "source": [
    "names_min = pd.DataFrame(\n",
    "    np.zeros([4, 4]), \n",
    "    columns = [\n",
    "        'loss', 'ssim', \n",
    "        'psnr', 'nrmse', \n",
    "    ])\n",
    "\n",
    "names_max = pd.DataFrame(\n",
    "    np.zeros([4, 4]), \n",
    "    columns = [\n",
    "        'loss', 'ssim', \n",
    "        'psnr', 'nrmse', \n",
    "    ])\n",
    "names_min, names_max"
   ]
  },
  {
   "cell_type": "code",
   "execution_count": 207,
   "id": "8a982cc0",
   "metadata": {},
   "outputs": [
    {
     "data": {
      "text/plain": [
       "[       loss      ssim       psnr     nrmse  div_coronal_pd_fs  div_coronal_pd\n",
       " 0  0.039891  0.812367  31.642353  0.157984           0.064386             1.0\n",
       " 2  0.033093  0.848451  33.234558  0.131297           0.215292             1.0\n",
       " 1  0.032012  0.855036  33.682333  0.124817           0.509054             1.0\n",
       " 3  0.031127  0.860630  33.996669  0.120426           1.000000             1.0,\n",
       "        ssim       psnr  div_coronal_pd_fs  div_coronal_pd\n",
       " 2  0.898562  34.133462           0.215292             1.0\n",
       " 1  0.902340  34.374319           0.509054             1.0\n",
       " 3  0.902684  34.348572           1.000000             1.0]"
      ]
     },
     "execution_count": 207,
     "metadata": {},
     "output_type": "execute_result"
    }
   ],
   "source": [
    "l"
   ]
  },
  {
   "cell_type": "code",
   "execution_count": 212,
   "id": "aadcacc5",
   "metadata": {},
   "outputs": [
    {
     "data": {
      "text/html": [
       "<div>\n",
       "<style scoped>\n",
       "    .dataframe tbody tr th:only-of-type {\n",
       "        vertical-align: middle;\n",
       "    }\n",
       "\n",
       "    .dataframe tbody tr th {\n",
       "        vertical-align: top;\n",
       "    }\n",
       "\n",
       "    .dataframe thead th {\n",
       "        text-align: right;\n",
       "    }\n",
       "</style>\n",
       "<table border=\"1\" class=\"dataframe\">\n",
       "  <thead>\n",
       "    <tr style=\"text-align: right;\">\n",
       "      <th></th>\n",
       "      <th></th>\n",
       "      <th>loss</th>\n",
       "      <th>ssim</th>\n",
       "      <th>psnr</th>\n",
       "      <th>nrmse</th>\n",
       "      <th>div_coronal_pd_fs</th>\n",
       "      <th>div_coronal_pd</th>\n",
       "    </tr>\n",
       "  </thead>\n",
       "  <tbody>\n",
       "    <tr>\n",
       "      <th rowspan=\"4\" valign=\"top\">0</th>\n",
       "      <th>0</th>\n",
       "      <td>0.039891</td>\n",
       "      <td>0.812367</td>\n",
       "      <td>31.642353</td>\n",
       "      <td>0.157984</td>\n",
       "      <td>0.064386</td>\n",
       "      <td>1.0</td>\n",
       "    </tr>\n",
       "    <tr>\n",
       "      <th>2</th>\n",
       "      <td>0.033093</td>\n",
       "      <td>0.848451</td>\n",
       "      <td>33.234558</td>\n",
       "      <td>0.131297</td>\n",
       "      <td>0.215292</td>\n",
       "      <td>1.0</td>\n",
       "    </tr>\n",
       "    <tr>\n",
       "      <th>1</th>\n",
       "      <td>0.032012</td>\n",
       "      <td>0.855036</td>\n",
       "      <td>33.682333</td>\n",
       "      <td>0.124817</td>\n",
       "      <td>0.509054</td>\n",
       "      <td>1.0</td>\n",
       "    </tr>\n",
       "    <tr>\n",
       "      <th>3</th>\n",
       "      <td>0.031127</td>\n",
       "      <td>0.860630</td>\n",
       "      <td>33.996669</td>\n",
       "      <td>0.120426</td>\n",
       "      <td>1.000000</td>\n",
       "      <td>1.0</td>\n",
       "    </tr>\n",
       "    <tr>\n",
       "      <th rowspan=\"3\" valign=\"top\">1</th>\n",
       "      <th>2</th>\n",
       "      <td>NaN</td>\n",
       "      <td>0.898562</td>\n",
       "      <td>34.133462</td>\n",
       "      <td>NaN</td>\n",
       "      <td>0.215292</td>\n",
       "      <td>1.0</td>\n",
       "    </tr>\n",
       "    <tr>\n",
       "      <th>1</th>\n",
       "      <td>NaN</td>\n",
       "      <td>0.902340</td>\n",
       "      <td>34.374319</td>\n",
       "      <td>NaN</td>\n",
       "      <td>0.509054</td>\n",
       "      <td>1.0</td>\n",
       "    </tr>\n",
       "    <tr>\n",
       "      <th>3</th>\n",
       "      <td>NaN</td>\n",
       "      <td>0.902684</td>\n",
       "      <td>34.348572</td>\n",
       "      <td>NaN</td>\n",
       "      <td>1.000000</td>\n",
       "      <td>1.0</td>\n",
       "    </tr>\n",
       "  </tbody>\n",
       "</table>\n",
       "</div>"
      ],
      "text/plain": [
       "         loss      ssim       psnr     nrmse  div_coronal_pd_fs  \\\n",
       "0 0  0.039891  0.812367  31.642353  0.157984           0.064386   \n",
       "  2  0.033093  0.848451  33.234558  0.131297           0.215292   \n",
       "  1  0.032012  0.855036  33.682333  0.124817           0.509054   \n",
       "  3  0.031127  0.860630  33.996669  0.120426           1.000000   \n",
       "1 2       NaN  0.898562  34.133462       NaN           0.215292   \n",
       "  1       NaN  0.902340  34.374319       NaN           0.509054   \n",
       "  3       NaN  0.902684  34.348572       NaN           1.000000   \n",
       "\n",
       "     div_coronal_pd  \n",
       "0 0             1.0  \n",
       "  2             1.0  \n",
       "  1             1.0  \n",
       "  3             1.0  \n",
       "1 2             1.0  \n",
       "  1             1.0  \n",
       "  3             1.0  "
      ]
     },
     "execution_count": 212,
     "metadata": {},
     "output_type": "execute_result"
    }
   ],
   "source": [
    "DF_psnr_ssim = pd.concat(l, keys=range(len(l)))\n",
    "DF_psnr_ssim"
   ]
  },
  {
   "cell_type": "code",
   "execution_count": 213,
   "id": "a4ba673a",
   "metadata": {},
   "outputs": [
    {
     "data": {
      "text/html": [
       "<div>\n",
       "<style scoped>\n",
       "    .dataframe tbody tr th:only-of-type {\n",
       "        vertical-align: middle;\n",
       "    }\n",
       "\n",
       "    .dataframe tbody tr th {\n",
       "        vertical-align: top;\n",
       "    }\n",
       "\n",
       "    .dataframe thead th {\n",
       "        text-align: right;\n",
       "    }\n",
       "</style>\n",
       "<table border=\"1\" class=\"dataframe\">\n",
       "  <thead>\n",
       "    <tr style=\"text-align: right;\">\n",
       "      <th></th>\n",
       "      <th>ssim</th>\n",
       "      <th>psnr</th>\n",
       "      <th>div_coronal_pd_fs</th>\n",
       "      <th>div_coronal_pd</th>\n",
       "    </tr>\n",
       "  </thead>\n",
       "  <tbody>\n",
       "    <tr>\n",
       "      <th>0</th>\n",
       "      <td>0.812367</td>\n",
       "      <td>31.642353</td>\n",
       "      <td>0.064386</td>\n",
       "      <td>1.0</td>\n",
       "    </tr>\n",
       "    <tr>\n",
       "      <th>1</th>\n",
       "      <td>0.902340</td>\n",
       "      <td>34.374319</td>\n",
       "      <td>0.509054</td>\n",
       "      <td>1.0</td>\n",
       "    </tr>\n",
       "    <tr>\n",
       "      <th>2</th>\n",
       "      <td>0.898562</td>\n",
       "      <td>34.133462</td>\n",
       "      <td>0.215292</td>\n",
       "      <td>1.0</td>\n",
       "    </tr>\n",
       "    <tr>\n",
       "      <th>3</th>\n",
       "      <td>0.902684</td>\n",
       "      <td>34.348572</td>\n",
       "      <td>1.000000</td>\n",
       "      <td>1.0</td>\n",
       "    </tr>\n",
       "  </tbody>\n",
       "</table>\n",
       "</div>"
      ],
      "text/plain": [
       "       ssim       psnr  div_coronal_pd_fs  div_coronal_pd\n",
       "0  0.812367  31.642353           0.064386             1.0\n",
       "1  0.902340  34.374319           0.509054             1.0\n",
       "2  0.898562  34.133462           0.215292             1.0\n",
       "3  0.902684  34.348572           1.000000             1.0"
      ]
     },
     "execution_count": 213,
     "metadata": {},
     "output_type": "execute_result"
    }
   ],
   "source": [
    "DF_psnr_ssim = pd.concat(l, keys=range(len(l))).drop(['loss', 'nrmse'], axis = 1).groupby(level=1)\n",
    "DF_loss_nrmse = pd.concat(l, keys=range(len(l))).drop(['psnr', 'ssim'], axis = 1).groupby(level=1)\n",
    "\n",
    "maxdf = DF_psnr_ssim.max()\n",
    "mindf = DF_loss_nrmse.min()\n",
    "\n",
    "maxdf"
   ]
  },
  {
   "cell_type": "code",
   "execution_count": 175,
   "id": "c5485071",
   "metadata": {},
   "outputs": [
    {
     "data": {
      "text/html": [
       "<div>\n",
       "<style scoped>\n",
       "    .dataframe tbody tr th:only-of-type {\n",
       "        vertical-align: middle;\n",
       "    }\n",
       "\n",
       "    .dataframe tbody tr th {\n",
       "        vertical-align: top;\n",
       "    }\n",
       "\n",
       "    .dataframe thead th {\n",
       "        text-align: right;\n",
       "    }\n",
       "</style>\n",
       "<table border=\"1\" class=\"dataframe\">\n",
       "  <thead>\n",
       "    <tr style=\"text-align: right;\">\n",
       "      <th></th>\n",
       "      <th>loss</th>\n",
       "      <th>ssim</th>\n",
       "      <th>psnr</th>\n",
       "      <th>nrmse</th>\n",
       "      <th>div_coronal_pd_fs</th>\n",
       "      <th>div_coronal_pd</th>\n",
       "    </tr>\n",
       "  </thead>\n",
       "  <tbody>\n",
       "    <tr>\n",
       "      <th>0</th>\n",
       "      <td>0.039891</td>\n",
       "      <td>0.812367</td>\n",
       "      <td>31.642353</td>\n",
       "      <td>0.157984</td>\n",
       "      <td>0.064386</td>\n",
       "      <td>1.0</td>\n",
       "    </tr>\n",
       "    <tr>\n",
       "      <th>1</th>\n",
       "      <td>0.019098</td>\n",
       "      <td>0.855036</td>\n",
       "      <td>33.682333</td>\n",
       "      <td>0.077433</td>\n",
       "      <td>0.509054</td>\n",
       "      <td>1.0</td>\n",
       "    </tr>\n",
       "    <tr>\n",
       "      <th>2</th>\n",
       "      <td>0.019480</td>\n",
       "      <td>0.848451</td>\n",
       "      <td>33.234558</td>\n",
       "      <td>0.079579</td>\n",
       "      <td>0.215292</td>\n",
       "      <td>1.0</td>\n",
       "    </tr>\n",
       "    <tr>\n",
       "      <th>3</th>\n",
       "      <td>0.019164</td>\n",
       "      <td>0.860630</td>\n",
       "      <td>33.996669</td>\n",
       "      <td>0.077470</td>\n",
       "      <td>1.000000</td>\n",
       "      <td>1.0</td>\n",
       "    </tr>\n",
       "  </tbody>\n",
       "</table>\n",
       "</div>"
      ],
      "text/plain": [
       "       loss      ssim       psnr     nrmse  div_coronal_pd_fs  div_coronal_pd\n",
       "0  0.039891  0.812367  31.642353  0.157984           0.064386             1.0\n",
       "1  0.019098  0.855036  33.682333  0.077433           0.509054             1.0\n",
       "2  0.019480  0.848451  33.234558  0.079579           0.215292             1.0\n",
       "3  0.019164  0.860630  33.996669  0.077470           1.000000             1.0"
      ]
     },
     "execution_count": 175,
     "metadata": {},
     "output_type": "execute_result"
    }
   ],
   "source": [
    "mindf"
   ]
  },
  {
   "cell_type": "code",
   "execution_count": 252,
   "id": "212dff88",
   "metadata": {},
   "outputs": [],
   "source": [
    "names_max[maxdf.eq(df2)] = 'div_coronal_pd'"
   ]
  },
  {
   "cell_type": "code",
   "execution_count": 253,
   "id": "a793d233",
   "metadata": {},
   "outputs": [],
   "source": [
    "names_max[maxdf.eq(df1)] = 'div_coronal_pd_fs'"
   ]
  },
  {
   "cell_type": "code",
   "execution_count": 254,
   "id": "5956e17e",
   "metadata": {},
   "outputs": [],
   "source": [
    "names_max = names_max.rename(\n",
    "    columns = {\n",
    "    'loss' : 'lossname',\n",
    "    'ssim' : 'ssimname',\n",
    "    'psnr' : 'psnrname',\n",
    "    'nrmse' : 'nrmsename',\n",
    "}\n",
    ")"
   ]
  },
  {
   "cell_type": "code",
   "execution_count": 255,
   "id": "b6f9a912",
   "metadata": {},
   "outputs": [
    {
     "data": {
      "text/html": [
       "<div>\n",
       "<style scoped>\n",
       "    .dataframe tbody tr th:only-of-type {\n",
       "        vertical-align: middle;\n",
       "    }\n",
       "\n",
       "    .dataframe tbody tr th {\n",
       "        vertical-align: top;\n",
       "    }\n",
       "\n",
       "    .dataframe thead th {\n",
       "        text-align: right;\n",
       "    }\n",
       "</style>\n",
       "<table border=\"1\" class=\"dataframe\">\n",
       "  <thead>\n",
       "    <tr style=\"text-align: right;\">\n",
       "      <th></th>\n",
       "      <th>lossname</th>\n",
       "      <th>ssimname</th>\n",
       "      <th>psnrname</th>\n",
       "      <th>nrmsename</th>\n",
       "    </tr>\n",
       "  </thead>\n",
       "  <tbody>\n",
       "  </tbody>\n",
       "</table>\n",
       "</div>"
      ],
      "text/plain": [
       "Empty DataFrame\n",
       "Columns: [lossname, ssimname, psnrname, nrmsename]\n",
       "Index: []"
      ]
     },
     "execution_count": 255,
     "metadata": {},
     "output_type": "execute_result"
    }
   ],
   "source": [
    "# maybe none of the runs have certain scarcities\n",
    "names_max = names_max[(names_max.T != 0).any()]\n",
    "names_max"
   ]
  },
  {
   "cell_type": "code",
   "execution_count": 256,
   "id": "a7a6468b",
   "metadata": {},
   "outputs": [
    {
     "data": {
      "text/html": [
       "<div>\n",
       "<style scoped>\n",
       "    .dataframe tbody tr th:only-of-type {\n",
       "        vertical-align: middle;\n",
       "    }\n",
       "\n",
       "    .dataframe tbody tr th {\n",
       "        vertical-align: top;\n",
       "    }\n",
       "\n",
       "    .dataframe thead th {\n",
       "        text-align: right;\n",
       "    }\n",
       "</style>\n",
       "<table border=\"1\" class=\"dataframe\">\n",
       "  <thead>\n",
       "    <tr style=\"text-align: right;\">\n",
       "      <th></th>\n",
       "      <th>ssim</th>\n",
       "      <th>psnr</th>\n",
       "      <th>div_coronal_pd_fs</th>\n",
       "      <th>div_coronal_pd</th>\n",
       "      <th>lossname</th>\n",
       "      <th>ssimname</th>\n",
       "      <th>psnrname</th>\n",
       "      <th>nrmsename</th>\n",
       "    </tr>\n",
       "  </thead>\n",
       "  <tbody>\n",
       "    <tr>\n",
       "      <th>0</th>\n",
       "      <td>0.812367</td>\n",
       "      <td>31.642353</td>\n",
       "      <td>0.064386</td>\n",
       "      <td>1.0</td>\n",
       "      <td>div_coronal_pd_fs</td>\n",
       "      <td>div_coronal_pd_fs</td>\n",
       "      <td>div_coronal_pd_fs</td>\n",
       "      <td>div_coronal_pd_fs</td>\n",
       "    </tr>\n",
       "    <tr>\n",
       "      <th>1</th>\n",
       "      <td>0.902340</td>\n",
       "      <td>34.374319</td>\n",
       "      <td>0.509054</td>\n",
       "      <td>1.0</td>\n",
       "      <td>div_coronal_pd_fs</td>\n",
       "      <td>div_coronal_pd</td>\n",
       "      <td>div_coronal_pd</td>\n",
       "      <td>div_coronal_pd_fs</td>\n",
       "    </tr>\n",
       "    <tr>\n",
       "      <th>2</th>\n",
       "      <td>0.898562</td>\n",
       "      <td>34.133462</td>\n",
       "      <td>0.215292</td>\n",
       "      <td>1.0</td>\n",
       "      <td>div_coronal_pd_fs</td>\n",
       "      <td>div_coronal_pd</td>\n",
       "      <td>div_coronal_pd</td>\n",
       "      <td>div_coronal_pd_fs</td>\n",
       "    </tr>\n",
       "    <tr>\n",
       "      <th>3</th>\n",
       "      <td>0.902684</td>\n",
       "      <td>34.348572</td>\n",
       "      <td>1.000000</td>\n",
       "      <td>1.0</td>\n",
       "      <td>div_coronal_pd_fs</td>\n",
       "      <td>div_coronal_pd</td>\n",
       "      <td>div_coronal_pd</td>\n",
       "      <td>div_coronal_pd_fs</td>\n",
       "    </tr>\n",
       "  </tbody>\n",
       "</table>\n",
       "</div>"
      ],
      "text/plain": [
       "       ssim       psnr  div_coronal_pd_fs  div_coronal_pd           lossname  \\\n",
       "0  0.812367  31.642353           0.064386             1.0  div_coronal_pd_fs   \n",
       "1  0.902340  34.374319           0.509054             1.0  div_coronal_pd_fs   \n",
       "2  0.898562  34.133462           0.215292             1.0  div_coronal_pd_fs   \n",
       "3  0.902684  34.348572           1.000000             1.0  div_coronal_pd_fs   \n",
       "\n",
       "            ssimname           psnrname          nrmsename  \n",
       "0  div_coronal_pd_fs  div_coronal_pd_fs  div_coronal_pd_fs  \n",
       "1     div_coronal_pd     div_coronal_pd  div_coronal_pd_fs  \n",
       "2     div_coronal_pd     div_coronal_pd  div_coronal_pd_fs  \n",
       "3     div_coronal_pd     div_coronal_pd  div_coronal_pd_fs  "
      ]
     },
     "execution_count": 256,
     "metadata": {},
     "output_type": "execute_result"
    }
   ],
   "source": [
    "ssim_psnr = pd.concat([maxdf, zeros], axis = 1)\n",
    "ssim_psnr"
   ]
  },
  {
   "cell_type": "code",
   "execution_count": null,
   "id": "2a80b750",
   "metadata": {},
   "outputs": [],
   "source": []
  },
  {
   "cell_type": "code",
   "execution_count": null,
   "id": "983786a2",
   "metadata": {},
   "outputs": [],
   "source": []
  },
  {
   "cell_type": "code",
   "execution_count": null,
   "id": "9c5509f9",
   "metadata": {},
   "outputs": [],
   "source": []
  },
  {
   "cell_type": "code",
   "execution_count": null,
   "id": "160c2ea1",
   "metadata": {},
   "outputs": [],
   "source": []
  },
  {
   "cell_type": "code",
   "execution_count": 224,
   "id": "2081ba95",
   "metadata": {},
   "outputs": [
    {
     "data": {
      "text/plain": [
       "33.99666931421489"
      ]
     },
     "execution_count": 224,
     "metadata": {},
     "output_type": "execute_result"
    }
   ],
   "source": [
    "a = df1.loc[df1['div_coronal_pd_fs'] == max(df1['div_coronal_pd_fs']), 'psnr']\n",
    "float(a)"
   ]
  },
  {
   "cell_type": "code",
   "execution_count": 248,
   "id": "79246e67",
   "metadata": {},
   "outputs": [
    {
     "data": {
      "text/html": [
       "\n",
       "\n",
       "\n",
       "\n",
       "\n",
       "\n",
       "  <div class=\"bk-root\" id=\"5463f9d6-17bd-4579-bafd-f1aed2ad71ed\" data-root-id=\"6202\"></div>\n"
      ]
     },
     "metadata": {},
     "output_type": "display_data"
    },
    {
     "data": {
      "application/javascript": [
       "(function(root) {\n",
       "  function embed_document(root) {\n",
       "    \n",
       "  var docs_json = {\"565ca30b-418a-4f66-87c0-80c3d34d8a24\":{\"defs\":[],\"roots\":{\"references\":[{\"attributes\":{\"below\":[{\"id\":\"6211\"}],\"center\":[{\"id\":\"6214\"},{\"id\":\"6218\"},{\"id\":\"6250\"}],\"height\":340,\"left\":[{\"id\":\"6215\"}],\"renderers\":[{\"id\":\"6237\"}],\"title\":{\"id\":\"6240\"},\"toolbar\":{\"id\":\"6226\"},\"width\":700,\"x_range\":{\"id\":\"6203\"},\"x_scale\":{\"id\":\"6207\"},\"y_range\":{\"id\":\"6205\"},\"y_scale\":{\"id\":\"6209\"}},\"id\":\"6202\",\"subtype\":\"Figure\",\"type\":\"Plot\"},{\"attributes\":{},\"id\":\"6249\",\"type\":\"UnionRenderers\"},{\"attributes\":{\"data_source\":{\"id\":\"6233\"},\"glyph\":{\"id\":\"6235\"},\"hover_glyph\":null,\"muted_glyph\":null,\"nonselection_glyph\":{\"id\":\"6236\"},\"view\":{\"id\":\"6238\"}},\"id\":\"6237\",\"type\":\"GlyphRenderer\"},{\"attributes\":{},\"id\":\"6246\",\"type\":\"BasicTickFormatter\"},{\"attributes\":{\"axis\":{\"id\":\"6211\"},\"ticker\":null},\"id\":\"6214\",\"type\":\"Grid\"},{\"attributes\":{\"active_multi\":null,\"tools\":[{\"id\":\"6219\"},{\"id\":\"6220\"},{\"id\":\"6221\"},{\"id\":\"6222\"},{\"id\":\"6223\"},{\"id\":\"6224\"}]},\"id\":\"6226\",\"type\":\"Toolbar\"},{\"attributes\":{\"label\":{\"value\":\"STL baseline div_coronal_pd\"},\"renderers\":[{\"id\":\"6237\"}]},\"id\":\"6251\",\"type\":\"LegendItem\"},{\"attributes\":{},\"id\":\"6209\",\"type\":\"LinearScale\"},{\"attributes\":{\"axis\":{\"id\":\"6215\"},\"dimension\":1,\"ticker\":null},\"id\":\"6218\",\"type\":\"Grid\"},{\"attributes\":{\"items\":[{\"id\":\"6251\"}]},\"id\":\"6250\",\"type\":\"Legend\"},{\"attributes\":{\"axis_label\":\"percent\",\"formatter\":{\"id\":\"6243\"},\"major_label_policy\":{\"id\":\"6242\"},\"ticker\":{\"id\":\"6212\"}},\"id\":\"6211\",\"type\":\"LinearAxis\"},{\"attributes\":{\"axis_label\":\"psnr\",\"formatter\":{\"id\":\"6246\"},\"major_label_policy\":{\"id\":\"6245\"},\"ticker\":{\"id\":\"6216\"}},\"id\":\"6215\",\"type\":\"LinearAxis\"},{\"attributes\":{},\"id\":\"6205\",\"type\":\"DataRange1d\"},{\"attributes\":{\"fill_alpha\":{\"value\":0.1},\"fill_color\":{\"value\":null},\"line_alpha\":{\"value\":0.1},\"line_color\":{\"value\":\"orange\"},\"line_width\":{\"value\":2},\"marker\":{\"value\":\"square\"},\"size\":{\"value\":15},\"x\":{\"field\":\"div_coronal_pd_fs\"},\"y\":{\"field\":\"psnr\"}},\"id\":\"6236\",\"type\":\"Scatter\"},{\"attributes\":{},\"id\":\"6203\",\"type\":\"DataRange1d\"},{\"attributes\":{},\"id\":\"6240\",\"type\":\"Title\"},{\"attributes\":{},\"id\":\"6224\",\"type\":\"HelpTool\"},{\"attributes\":{\"overlay\":{\"id\":\"6225\"}},\"id\":\"6221\",\"type\":\"BoxZoomTool\"},{\"attributes\":{\"source\":{\"id\":\"6233\"}},\"id\":\"6238\",\"type\":\"CDSView\"},{\"attributes\":{},\"id\":\"6248\",\"type\":\"Selection\"},{\"attributes\":{\"bottom_units\":\"screen\",\"fill_alpha\":0.5,\"fill_color\":\"lightgrey\",\"left_units\":\"screen\",\"level\":\"overlay\",\"line_alpha\":1.0,\"line_color\":\"black\",\"line_dash\":[4,4],\"line_width\":2,\"right_units\":\"screen\",\"syncable\":false,\"top_units\":\"screen\"},\"id\":\"6225\",\"type\":\"BoxAnnotation\"},{\"attributes\":{\"fill_color\":{\"value\":null},\"line_color\":{\"value\":\"orange\"},\"line_width\":{\"value\":2},\"marker\":{\"value\":\"square\"},\"size\":{\"value\":15},\"x\":{\"field\":\"div_coronal_pd_fs\"},\"y\":{\"field\":\"psnr\"}},\"id\":\"6235\",\"type\":\"Scatter\"},{\"attributes\":{},\"id\":\"6219\",\"type\":\"PanTool\"},{\"attributes\":{},\"id\":\"6216\",\"type\":\"BasicTicker\"},{\"attributes\":{},\"id\":\"6222\",\"type\":\"SaveTool\"},{\"attributes\":{\"data\":{\"Unnamed: 0\":[0,1,2,3],\"div_coronal_pd\":{\"__ndarray__\":\"AAAAAAAA8D8AAAAAAADwPwAAAAAAAPA/AAAAAAAA8D8=\",\"dtype\":\"float64\",\"order\":\"little\",\"shape\":[4]},\"div_coronal_pd_fs\":{\"__ndarray__\":\"3eq4KZ97sD8hwDtMLErgP7EowRmujss/AAAAAAAA8D8=\",\"dtype\":\"float64\",\"order\":\"little\",\"shape\":[4]},\"index\":[0,1,2,3],\"loss\":{\"__ndarray__\":\"Oqsv1Z1spD9ElOxk6mOgP1R9qbCc8aA/Qzpvb93fnz8=\",\"dtype\":\"float64\",\"order\":\"little\",\"shape\":[4]},\"nrmse\":{\"__ndarray__\":\"YgybMNA4xD99OHip+fO/PyxoqelYzsA/fIJbmDrUvj8=\",\"dtype\":\"float64\",\"order\":\"little\",\"shape\":[4]},\"psnr\":{\"__ndarray__\":\"LrmVQXGkP0CVLI2wVtdAQCjpCgMGnkBAZ70u3JL/QEA=\",\"dtype\":\"float64\",\"order\":\"little\",\"shape\":[4]},\"ssim\":{\"__ndarray__\":\"CLlojen+6T8LVJptdVzrP7gedH+DJus/ukHSkEiK6z8=\",\"dtype\":\"float64\",\"order\":\"little\",\"shape\":[4]}},\"selected\":{\"id\":\"6248\"},\"selection_policy\":{\"id\":\"6249\"}},\"id\":\"6233\",\"type\":\"ColumnDataSource\"},{\"attributes\":{},\"id\":\"6212\",\"type\":\"BasicTicker\"},{\"attributes\":{},\"id\":\"6223\",\"type\":\"ResetTool\"},{\"attributes\":{},\"id\":\"6245\",\"type\":\"AllLabels\"},{\"attributes\":{},\"id\":\"6207\",\"type\":\"LinearScale\"},{\"attributes\":{},\"id\":\"6243\",\"type\":\"BasicTickFormatter\"},{\"attributes\":{},\"id\":\"6220\",\"type\":\"WheelZoomTool\"},{\"attributes\":{},\"id\":\"6242\",\"type\":\"AllLabels\"}],\"root_ids\":[\"6202\"]},\"title\":\"Bokeh Application\",\"version\":\"2.3.2\"}};\n",
       "  var render_items = [{\"docid\":\"565ca30b-418a-4f66-87c0-80c3d34d8a24\",\"root_ids\":[\"6202\"],\"roots\":{\"6202\":\"5463f9d6-17bd-4579-bafd-f1aed2ad71ed\"}}];\n",
       "  root.Bokeh.embed.embed_items_notebook(docs_json, render_items);\n",
       "\n",
       "  }\n",
       "  if (root.Bokeh !== undefined) {\n",
       "    embed_document(root);\n",
       "  } else {\n",
       "    var attempts = 0;\n",
       "    var timer = setInterval(function(root) {\n",
       "      if (root.Bokeh !== undefined) {\n",
       "        clearInterval(timer);\n",
       "        embed_document(root);\n",
       "      } else {\n",
       "        attempts++;\n",
       "        if (attempts > 100) {\n",
       "          clearInterval(timer);\n",
       "          console.log(\"Bokeh: ERROR: Unable to run BokehJS code because BokehJS library is missing\");\n",
       "        }\n",
       "      }\n",
       "    }, 10, root)\n",
       "  }\n",
       "})(window);"
      ],
      "application/vnd.bokehjs_exec.v0+json": ""
     },
     "metadata": {
      "application/vnd.bokehjs_exec.v0+json": {
       "id": "6202"
      }
     },
     "output_type": "display_data"
    }
   ],
   "source": [
    "p = bokeh.plotting.figure(\n",
    "            width = 700,\n",
    "            height = 340,\n",
    "            x_axis_label = 'percent',\n",
    "            y_axis_label = 'psnr',\n",
    ")\n",
    "\n",
    "p.square(\n",
    "    source = df1,\n",
    "    x = 'div_coronal_pd_fs',\n",
    "    y = 'psnr',\n",
    "    legend_label = f'STL baseline div_coronal_pd',\n",
    "    color=\"orange\",fill_color=None, line_width=2, size = 15\n",
    ")\n",
    "\n",
    "bokeh.io.show(p)"
   ]
  },
  {
   "cell_type": "code",
   "execution_count": 280,
   "id": "2e029f49",
   "metadata": {},
   "outputs": [],
   "source": [
    "if True:\n",
    "    pass\n",
    "elif True:\n",
    "    print('hi')"
   ]
  },
  {
   "cell_type": "code",
   "execution_count": null,
   "id": "e87e79af",
   "metadata": {},
   "outputs": [],
   "source": []
  }
 ],
 "metadata": {
  "kernelspec": {
   "display_name": "Python 3",
   "language": "python",
   "name": "python3"
  },
  "language_info": {
   "codemirror_mode": {
    "name": "ipython",
    "version": 3
   },
   "file_extension": ".py",
   "mimetype": "text/x-python",
   "name": "python",
   "nbconvert_exporter": "python",
   "pygments_lexer": "ipython3",
   "version": "3.8.10"
  }
 },
 "nbformat": 4,
 "nbformat_minor": 5
}
