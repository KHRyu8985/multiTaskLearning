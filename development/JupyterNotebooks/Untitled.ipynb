{
 "cells": [
  {
   "cell_type": "code",
   "execution_count": 22,
   "id": "04406e9a",
   "metadata": {},
   "outputs": [],
   "source": [
    "from bokeh.palettes import Spectral6, Category20c_20"
   ]
  },
  {
   "cell_type": "code",
   "execution_count": 6,
   "id": "a6dbedc2",
   "metadata": {},
   "outputs": [
    {
     "data": {
      "text/plain": [
       "('#1f77b4',\n",
       " '#aec7e8',\n",
       " '#ff7f0e',\n",
       " '#ffbb78',\n",
       " '#2ca02c',\n",
       " '#98df8a',\n",
       " '#d62728',\n",
       " '#ff9896',\n",
       " '#9467bd',\n",
       " '#c5b0d5',\n",
       " '#8c564b',\n",
       " '#c49c94',\n",
       " '#e377c2',\n",
       " '#f7b6d2',\n",
       " '#7f7f7f',\n",
       " '#c7c7c7')"
      ]
     },
     "execution_count": 6,
     "metadata": {},
     "output_type": "execute_result"
    }
   ],
   "source": [
    "Category20[16]"
   ]
  },
  {
   "cell_type": "code",
   "execution_count": 7,
   "id": "63a53041",
   "metadata": {},
   "outputs": [
    {
     "name": "stdout",
     "output_type": "stream",
     "text": [
      "output :  5000\n"
     ]
    }
   ],
   "source": [
    "#input String\n",
    "str = \"Pythonpool\"\n",
    " \n",
    "#apply exec() method\n",
    "exec(\"%s = %d\" % (str,5000))\n",
    " \n",
    "#print string\n",
    "print(\"output : \",Pythonpool)"
   ]
  },
  {
   "cell_type": "code",
   "execution_count": 32,
   "id": "b8432e5f",
   "metadata": {},
   "outputs": [],
   "source": [
    "# _ = 'optcolors'\n",
    "exec(\"%s = %s\" % ('optcolors', 'optcolors'))"
   ]
  },
  {
   "cell_type": "code",
   "execution_count": 31,
   "id": "9f9b48d7",
   "metadata": {},
   "outputs": [],
   "source": [
    "optcolors = Spectral6"
   ]
  },
  {
   "cell_type": "code",
   "execution_count": 33,
   "id": "0a5c471e",
   "metadata": {},
   "outputs": [
    {
     "data": {
      "text/plain": [
       "('#3288bd', '#99d594', '#e6f598', '#fee08b', '#fc8d59', '#d53e4f')"
      ]
     },
     "execution_count": 33,
     "metadata": {},
     "output_type": "execute_result"
    }
   ],
   "source": [
    "optcolors"
   ]
  },
  {
   "cell_type": "code",
   "execution_count": 15,
   "id": "1177706d",
   "metadata": {},
   "outputs": [],
   "source": [
    "opt = 'hi'"
   ]
  },
  {
   "cell_type": "code",
   "execution_count": 34,
   "id": "f8ee8da8",
   "metadata": {},
   "outputs": [
    {
     "name": "stdout",
     "output_type": "stream",
     "text": [
      "hello\n"
     ]
    }
   ],
   "source": [
    "print (f\"he\\\n",
    "llo\")"
   ]
  },
  {
   "cell_type": "code",
   "execution_count": 49,
   "id": "e98722d1",
   "metadata": {},
   "outputs": [],
   "source": [
    "import glob, os"
   ]
  },
  {
   "cell_type": "code",
   "execution_count": 50,
   "id": "d76c98e6",
   "metadata": {},
   "outputs": [],
   "source": [
    "a = glob.glob('/home_local/vliu/multiTaskLearning/*')"
   ]
  },
  {
   "cell_type": "code",
   "execution_count": 52,
   "id": "3ff345f2",
   "metadata": {},
   "outputs": [
    {
     "data": {
      "text/plain": [
       "'README.md'"
      ]
     },
     "execution_count": 52,
     "metadata": {},
     "output_type": "execute_result"
    }
   ],
   "source": [
    "os.path.basename(a[0])"
   ]
  },
  {
   "cell_type": "code",
   "execution_count": 53,
   "id": "3a52622b",
   "metadata": {},
   "outputs": [
    {
     "data": {
      "text/plain": [
       "['/home_local/vliu/multiTaskLearning/README.md',\n",
       " '/home_local/vliu/multiTaskLearning/pareto.py',\n",
       " '/home_local/vliu/multiTaskLearning/__pycache__',\n",
       " '/home_local/vliu/multiTaskLearning/wrappers.py',\n",
       " '/home_local/vliu/multiTaskLearning/dloader.py',\n",
       " '/home_local/vliu/multiTaskLearning/MTL_VarNet.py',\n",
       " '/home_local/vliu/multiTaskLearning/plots',\n",
       " '/home_local/vliu/multiTaskLearning/dev_evaluate.py',\n",
       " '/home_local/vliu/multiTaskLearning/STL_VarNet.py',\n",
       " '/home_local/vliu/multiTaskLearning/models',\n",
       " '/home_local/vliu/multiTaskLearning/models.py',\n",
       " '/home_local/vliu/multiTaskLearning/evaluate.py',\n",
       " '/home_local/vliu/multiTaskLearning/utils.py',\n",
       " '/home_local/vliu/multiTaskLearning/nohup.out',\n",
       " '/home_local/vliu/multiTaskLearning/runs',\n",
       " '/home_local/vliu/multiTaskLearning/development']"
      ]
     },
     "execution_count": 53,
     "metadata": {},
     "output_type": "execute_result"
    }
   ],
   "source": [
    "a"
   ]
  },
  {
   "cell_type": "code",
   "execution_count": 69,
   "id": "8ad61276",
   "metadata": {},
   "outputs": [
    {
     "data": {
      "text/plain": [
       "'experient_df:sd'"
      ]
     },
     "execution_count": 69,
     "metadata": {},
     "output_type": "execute_result"
    }
   ],
   "source": [
    "a = 'models/experient_df/sd.pt'\n",
    "':'.join(a.split('models/')[1][:-3].split('/'))"
   ]
  },
  {
   "cell_type": "code",
   "execution_count": 83,
   "id": "bb370ecc",
   "metadata": {},
   "outputs": [],
   "source": []
  },
  {
   "cell_type": "code",
   "execution_count": 84,
   "id": "676ea6db",
   "metadata": {},
   "outputs": [
    {
     "name": "stdout",
     "output_type": "stream",
     "text": [
      "a\n",
      "nk\n"
     ]
    }
   ],
   "source": [
    "print(a)"
   ]
  },
  {
   "cell_type": "code",
   "execution_count": 77,
   "id": "fa23dbb9",
   "metadata": {},
   "outputs": [],
   "source": [
    "b = 'n'"
   ]
  },
  {
   "cell_type": "code",
   "execution_count": null,
   "id": "3c3bcd51",
   "metadata": {},
   "outputs": [],
   "source": []
  }
 ],
 "metadata": {
  "kernelspec": {
   "display_name": "Python 3",
   "language": "python",
   "name": "python3"
  },
  "language_info": {
   "codemirror_mode": {
    "name": "ipython",
    "version": 3
   },
   "file_extension": ".py",
   "mimetype": "text/x-python",
   "name": "python",
   "nbconvert_exporter": "python",
   "pygments_lexer": "ipython3",
   "version": "3.8.10"
  }
 },
 "nbformat": 4,
 "nbformat_minor": 5
}
