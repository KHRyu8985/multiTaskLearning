{
 "cells": [
  {
   "cell_type": "code",
   "execution_count": 1,
   "id": "18614ad2",
   "metadata": {},
   "outputs": [],
   "source": [
    "import numpy as np\n",
    "\n",
    "import fastmri\n",
    "import torch\n",
    "import torch.nn as nn\n",
    "import torch.nn.functional as F\n",
    "from fastmri.data import transforms\n",
    "import sigpy.plot as pl\n",
    "import matplotlib.pyplot as plt\n",
    "plt.rcParams[\"figure.figsize\"] = (10,10)\n",
    "\n",
    "from fastmri.models.unet import Unet\n",
    "from fastmri.models.varnet import *\n",
    "from dloader import genDataLoader"
   ]
  },
  {
   "cell_type": "code",
   "execution_count": 2,
   "id": "19c4c0c0",
   "metadata": {},
   "outputs": [],
   "source": [
    "# We can make one iteration block like this\n",
    "class VarNetBlock(nn.Module):\n",
    "    \"\"\"\n",
    "    This model applies a combination of soft data consistency with the input\n",
    "    model as a regularizer. A series of these blocks can be stacked to form\n",
    "    the full variational network.\n",
    "    \"\"\"\n",
    "\n",
    "    def __init__(self, model: nn.Module):\n",
    "        \"\"\"\n",
    "        Args:\n",
    "            model: Module for \"regularization\" component of variational\n",
    "                network.\n",
    "        \"\"\"\n",
    "        super().__init__()\n",
    "\n",
    "        self.model = model\n",
    "        self.eta = nn.Parameter(torch.ones(1))\n",
    "\n",
    "    def sens_expand(self, x: torch.Tensor, sens_maps: torch.Tensor) -> torch.Tensor:\n",
    "        return fastmri.fft2c(fastmri.complex_mul(x, sens_maps)) # F*S operator\n",
    "\n",
    "    def sens_reduce(self, x: torch.Tensor, sens_maps: torch.Tensor) -> torch.Tensor:\n",
    "        x = fastmri.ifft2c(x)\n",
    "        return fastmri.complex_mul(x, fastmri.complex_conj(sens_maps)).sum(\n",
    "            dim=1, keepdim=True\n",
    "        ) # S^H * F^H operator\n",
    "\n",
    "    def forward(\n",
    "        self,\n",
    "        current_kspace: torch.Tensor,\n",
    "        ref_kspace: torch.Tensor,\n",
    "        mask: torch.Tensor,\n",
    "        sens_maps: torch.Tensor,\n",
    "    ) -> torch.Tensor:\n",
    "        mask = mask.bool()\n",
    "        zero = torch.zeros(1, 1, 1, 1, 1).to(current_kspace)\n",
    "        soft_dc = torch.where(mask, current_kspace - ref_kspace, zero) * self.eta\n",
    "        model_term = self.sens_expand(\n",
    "            self.model(self.sens_reduce(current_kspace, sens_maps)), sens_maps\n",
    "        )\n",
    "\n",
    "        return current_kspace - soft_dc - model_term"
   ]
  },
  {
   "cell_type": "code",
   "execution_count": 3,
   "id": "8543ad65",
   "metadata": {},
   "outputs": [],
   "source": [
    "# now we can stack VarNetBlocks to make a unrolled VarNet (with 10 blocks)\n",
    "\n",
    "\n",
    "class VarNet(nn.Module):\n",
    "    \"\"\"\n",
    "    A full variational network model.\n",
    "\n",
    "    This model applies a combination of soft data consistency with a U-Net\n",
    "    regularizer. To use non-U-Net regularizers, use VarNetBock.\n",
    "    \"\"\"\n",
    "\n",
    "    def __init__(\n",
    "        self,\n",
    "        num_cascades: int = 12,\n",
    "        chans: int = 18,\n",
    "        pools: int = 4,\n",
    "    ):\n",
    "        super().__init__()\n",
    "\n",
    "        self.cascades = nn.ModuleList(\n",
    "            [VarNetBlock(NormUnet(chans, pools)) for _ in range(num_cascades)]\n",
    "        )\n",
    "        \n",
    "    def forward(\n",
    "        self,\n",
    "        masked_kspace: torch.Tensor, \n",
    "        mask: torch.Tensor,\n",
    "        sens_maps: torch.Tensor\n",
    "    ) -> torch.Tensor:\n",
    "        \n",
    "        kspace_pred = masked_kspace.clone()\n",
    "\n",
    "        for cascade in self.cascades:\n",
    "            kspace_pred = cascade(kspace_pred, masked_kspace, mask, sens_maps)\n",
    "        \n",
    "        im_coil = fastmri.ifft2c(kspace_pred)\n",
    "        im_comb = fastmri.complex_mul(im_coil, fastmri.complex_conj(sens_maps)).sum(\n",
    "            dim=1, keepdim=True\n",
    "        )\n",
    "        \n",
    "        return kspace_pred, im_comb"
   ]
  },
  {
   "cell_type": "code",
   "execution_count": 4,
   "id": "c4cca597",
   "metadata": {},
   "outputs": [],
   "source": [
    "varnet = VarNet() # first construct VarNet\n",
    "val_dloader = genDataLoader(\n",
    "            [\n",
    "                f'/mnt/dense/kanghyun/summer_dset/div_coronal_pd/Val', \n",
    "                f'/mnt/dense/kanghyun/summer_dset/div_coronal_pd_fs/Val'\n",
    "            ], # choose randomly\n",
    "            [4, 4], # no downsampling\n",
    "            shuffle = False,\n",
    "        )\n"
   ]
  },
  {
   "cell_type": "code",
   "execution_count": 5,
   "id": "d37adee2",
   "metadata": {},
   "outputs": [],
   "source": [
    "test_dloader = iter(val_dloader[0])\n",
    "kspace, mask, sens, im_true, contrast = next(test_dloader)\n",
    "criterion = nn.L1Loss()\n",
    "optimizer = torch.optim.Adam(varnet.parameters(),lr=0.0002)"
   ]
  },
  {
   "cell_type": "code",
   "execution_count": 6,
   "id": "4577efef",
   "metadata": {},
   "outputs": [
    {
     "name": "stdout",
     "output_type": "stream",
     "text": [
      "Initial Loss: 0.02346009947359562\n"
     ]
    }
   ],
   "source": [
    "# now perform this on cuda\n",
    "varnet_gpu = varnet.to('cuda:3')\n",
    "kspace_gpu, mask_gpu, sens_gpu, im_true_gpu = kspace.to('cuda:3'), mask.to('cuda:3'), sens.to('cuda:3'), im_true.to('cuda:3')\n",
    "\n",
    "criterion = nn.L1Loss()\n",
    "optimizer = torch.optim.Adam(varnet_gpu.parameters(),lr=0.0002)\n",
    "optimizer.zero_grad() \n",
    "_, im_est_gpu = varnet(kspace_gpu,mask_gpu,sens_gpu)\n",
    "loss = criterion(im_est_gpu, im_true_gpu)\n",
    "print('Initial Loss:', loss.item())\n",
    "loss.backward() # this performs the backprop\n",
    "optimizer.step() # this performs the gradient upda"
   ]
  },
  {
   "cell_type": "code",
   "execution_count": 7,
   "id": "17243fab",
   "metadata": {},
   "outputs": [
    {
     "data": {
      "image/png": "[encoded data removed]",
      "text/plain": [
       "<Figure size 432x288 with 1 Axes>"
      ]
     },
     "metadata": {
      "needs_background": "light"
     },
     "output_type": "display_data"
    },
    {
     "data": {
      "image/png": "[encoded data removed]",
      "text/plain": [
       "<Figure size 432x288 with 1 Axes>"
      ]
     },
     "metadata": {
      "needs_background": "light"
     },
     "output_type": "display_data"
    },
    {
     "data": {
      "text/plain": [
       "<sigpy.plot.ImagePlot at 0x7f2f4b914880>"
      ]
     },
     "execution_count": 7,
     "metadata": {},
     "output_type": "execute_result"
    }
   ],
   "source": [
    "%matplotlib inline\n",
    "# Let's look at the final produced image\n",
    "im_est = transforms.tensor_to_complex_np(im_est_gpu.cpu().detach())\n",
    "im_true = transforms.tensor_to_complex_np(im_true_gpu.cpu().detach())\n",
    "\n",
    "pl.ImagePlot(im_est) # this is est image\n",
    "pl.ImagePlot(im_true) # this is true image"
   ]
  },
  {
   "cell_type": "code",
   "execution_count": 26,
   "id": "f23c9073",
   "metadata": {},
   "outputs": [],
   "source": [
    "sens_plt = transforms.tensor_to_complex_np(sens.cpu().detach())"
   ]
  },
  {
   "cell_type": "code",
   "execution_count": 12,
   "id": "b5b0f680",
   "metadata": {},
   "outputs": [
    {
     "data": {
      "image/png": "[encoded data removed]",
      "text/plain": [
       "<Figure size 432x288 with 1 Axes>"
      ]
     },
     "metadata": {
      "needs_background": "light"
     },
     "output_type": "display_data"
    },
    {
     "data": {
      "text/plain": [
       "<sigpy.plot.ImagePlot at 0x7fcd59cac910>"
      ]
     },
     "execution_count": 12,
     "metadata": {},
     "output_type": "execute_result"
    }
   ],
   "source": [
    "pl.ImagePlot(sens_plt)"
   ]
  },
  {
   "cell_type": "code",
   "execution_count": null,
   "id": "4dde0b7e",
   "metadata": {},
   "outputs": [],
   "source": []
  }
 ],
 "metadata": {
  "kernelspec": {
   "display_name": "Python 3",
   "language": "python",
   "name": "python3"
  },
  "language_info": {
   "codemirror_mode": {
    "name": "ipython",
    "version": 3
   },
   "file_extension": ".py",
   "mimetype": "text/x-python",
   "name": "python",
   "nbconvert_exporter": "python",
   "pygments_lexer": "ipython3",
   "version": "3.8.10"
  }
 },
 "nbformat": 4,
 "nbformat_minor": 5
}
