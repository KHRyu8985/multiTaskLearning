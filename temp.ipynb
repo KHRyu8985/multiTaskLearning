{
 "cells": [
  {
   "cell_type": "code",
   "execution_count": 34,
   "metadata": {},
   "outputs": [],
   "source": [
    "import numpy as np\n",
    "\n",
    "import fastmri\n",
    "import torch\n",
    "import torch.nn as nn\n",
    "import torch.nn.functional as F\n",
    "from fastmri.data import transforms\n",
    "import sigpy.plot as pl\n",
    "import matplotlib.pyplot as plt\n",
    "plt.rcParams[\"figure.figsize\"] = (10,10)\n",
    "\n",
    "from fastmri.models.unet import Unet\n",
    "from fastmri.models.varnet import *\n",
    "from dloader import genDataLoader\n",
    "\n",
    "from skimage.metrics import structural_similarity as ssim\n",
    "from skimage.metrics import normalized_root_mse as nrmse\n",
    "from skimage.metrics import peak_signal_noise_ratio as psnr"
   ]
  },
  {
   "cell_type": "code",
   "execution_count": 9,
   "metadata": {},
   "outputs": [],
   "source": [
    "# We can make one iteration block like this\n",
    "class VarNetBlock(nn.Module):\n",
    "    \"\"\"\n",
    "    This model applies a combination of soft data consistency with the input\n",
    "    model as a regularizer. A series of these blocks can be stacked to form\n",
    "    the full variational network.\n",
    "    \"\"\"\n",
    "\n",
    "    def __init__(self, model: nn.Module):\n",
    "        \"\"\"\n",
    "        Args:\n",
    "            model: Module for \"regularization\" component of variational\n",
    "                network.\n",
    "        \"\"\"\n",
    "        super().__init__()\n",
    "\n",
    "        self.model = model\n",
    "        self.eta = nn.Parameter(torch.ones(1)) # eta variable (traineable)\n",
    "\n",
    "    def sens_expand(self, x: torch.Tensor, sens_maps: torch.Tensor) -> torch.Tensor:\n",
    "        return fastmri.fft2c(fastmri.complex_mul(x, sens_maps)) # F*S operator\n",
    "\n",
    "    def sens_reduce(self, x: torch.Tensor, sens_maps: torch.Tensor) -> torch.Tensor:\n",
    "        x = fastmri.ifft2c(x)\n",
    "        return fastmri.complex_mul(x, fastmri.complex_conj(sens_maps)).sum(\n",
    "            dim=1, keepdim=True\n",
    "        ) # S^H * F^H operator\n",
    "\n",
    "    def forward(\n",
    "        self,\n",
    "        current_kspace: torch.Tensor,\n",
    "        ref_kspace: torch.Tensor,\n",
    "        mask: torch.Tensor,\n",
    "        sens_maps: torch.Tensor,\n",
    "    ) -> torch.Tensor:\n",
    "        zero = torch.zeros(1, 1, 1, 1, 1).to(current_kspace)\n",
    "        soft_dc = torch.where(mask, current_kspace - ref_kspace, zero) * self.eta\n",
    "        model_term = self.sens_expand(\n",
    "            self.model(self.sens_reduce(current_kspace, sens_maps)), sens_maps\n",
    "        )\n",
    "\n",
    "        return current_kspace - soft_dc - model_term"
   ]
  },
  {
   "cell_type": "code",
   "execution_count": 10,
   "metadata": {},
   "outputs": [],
   "source": [
    "# now we can stack VarNetBlocks to make a unrolled VarNet (with 10 blocks)\n",
    "\n",
    "\n",
    "class VarNet(nn.Module):\n",
    "    \"\"\"\n",
    "    A full variational network model.\n",
    "\n",
    "    This model applies a combination of soft data consistency with a U-Net\n",
    "    regularizer. To use non-U-Net regularizers, use VarNetBock.\n",
    "    \"\"\"\n",
    "\n",
    "    def __init__(\n",
    "        self,\n",
    "        num_cascades: int = 10,\n",
    "        chans: int = 18,\n",
    "        pools: int = 4,\n",
    "    ):\n",
    "        super().__init__()\n",
    "\n",
    "        self.cascades = nn.ModuleList(\n",
    "            [VarNetBlock(NormUnet(chans, pools)) for _ in range(num_cascades)]\n",
    "        )\n",
    "\n",
    "    def forward(self, masked_kspace: torch.Tensor, mask: torch.Tensor, sens_maps: torch.Tensor) -> torch.Tensor:\n",
    "        kspace_pred = masked_kspace.clone()\n",
    "\n",
    "        for cascade in self.cascades:\n",
    "            kspace_pred = cascade(kspace_pred, masked_kspace, mask, sens_maps)\n",
    "        \n",
    "        im_coil = fastmri.ifft2c(kspace_pred)\n",
    "        im_comb = fastmri.complex_mul(im_coil, fastmri.complex_conj(sens_maps)).sum(\n",
    "            dim=1, keepdim=True\n",
    "        )\n",
    "        \n",
    "        return im_comb"
   ]
  },
  {
   "cell_type": "code",
   "execution_count": 11,
   "metadata": {},
   "outputs": [],
   "source": [
    "varnet = VarNet() # first construct VarNet\n",
    "basefolder = '/mnt/dense/kanghyun/summer_dset/div_coronal_pd/Test'\n",
    "dloader = genDataLoader(basefolder)"
   ]
  },
  {
   "cell_type": "code",
   "execution_count": 19,
   "metadata": {},
   "outputs": [],
   "source": [
    "# test if backpropagation works\n",
    "# if no error then backpropagation is working\n",
    "test_dloader = iter(dloader)"
   ]
  },
  {
   "cell_type": "code",
   "execution_count": 12,
   "metadata": {},
   "outputs": [
    {
     "name": "stdout",
     "output_type": "stream",
     "text": [
      "Initial Loss: 0.24175824224948883\n"
     ]
    }
   ],
   "source": [
    "kspace, mask, sens, im_true = next(test_dloader)\n",
    "criterion = nn.L1Loss()\n",
    "optimizer = torch.optim.Adam(varnet.parameters(),lr=0.0002)\n",
    "optimizer.zero_grad() \n",
    "im_est = varnet(kspace,mask,sens)\n",
    "loss = criterion(im_est, im_true)\n",
    "print('Initial Loss:', loss.item())\n",
    "loss.backward() # this performs the backprop\n",
    "optimizer.step() # this performs the gradient update"
   ]
  },
  {
   "cell_type": "code",
   "execution_count": 22,
   "metadata": {},
   "outputs": [
    {
     "name": "stdout",
     "output_type": "stream",
     "text": [
      "Initial Loss: 0.1131015196442604\n"
     ]
    }
   ],
   "source": [
    "# now perform this on cuda\n",
    "kspace, mask, sens, im_true = next(test_dloader)\n",
    "varnet_gpu = varnet.to('cuda:2')\n",
    "kspace_gpu, mask_gpu, sens_gpu, im_true_gpu = kspace.to('cuda:2'), mask.to('cuda:2'), sens.to('cuda:2'), im_true.to('cuda:2')\n",
    "criterion = nn.L1Loss()\n",
    "optimizer = torch.optim.Adam(varnet_gpu.parameters(),lr=0.0002)\n",
    "optimizer.zero_grad() \n",
    "im_est_gpu = varnet(kspace_gpu,mask_gpu,sens_gpu)\n",
    "loss = criterion(im_est_gpu, im_true_gpu)\n",
    "print('Initial Loss:', loss.item())\n",
    "loss.backward() # this performs the backprop\n",
    "optimizer.step() # this performs the gradient update"
   ]
  },
  {
   "cell_type": "code",
   "execution_count": null,
   "metadata": {},
   "outputs": [],
   "source": [
    "# let's train for a short epoch on the test set\n",
    "# See if loss is decreasing (network is learning something)\n",
    "Nepoch = 5\n",
    "criterion = nn.L1Loss()\n",
    "optimizer = torch.optim.Adam(varnet_gpu.parameters(),lr=0.0002)\n",
    "\n",
    "for epoch in range(Nepoch):\n",
    "    loss_epoch = 0\n",
    "    for kspace, mask, sens, im_true in dloader:\n",
    "        kspace_gpu, mask_gpu, sens_gpu, im_true_gpu = kspace.to('cuda:2'), mask.to('cuda:1'), sens.to('cuda:2'), im_true.to('cuda:2')\n",
    "        optimizer.zero_grad() \n",
    "        im_est_gpu = varnet(kspace_gpu,mask_gpu,sens_gpu)\n",
    "        loss = criterion(im_est_gpu, im_true_gpu)\n",
    "        loss.backward() # this performs the backprop\n",
    "        optimizer.step() # this performs the gradient update\n",
    "        loss_epoch += loss.item()\n",
    "    print('epoch:{}/{} Mean Loss: {}'.format(epoch, Nepoch, loss_epoch / len(dloader))) # report loss for end of the epoch\n"
   ]
  },
  {
   "cell_type": "code",
   "execution_count": 21,
   "metadata": {},
   "outputs": [
    {
     "data": {
      "image/png": "[encoded data removed]",
      "text/plain": [
       "<Figure size 432x288 with 1 Axes>"
      ]
     },
     "metadata": {
      "needs_background": "light"
     },
     "output_type": "display_data"
    },
    {
     "data": {
      "image/png": "[encoded data removed]",
      "text/plain": [
       "<Figure size 432x288 with 1 Axes>"
      ]
     },
     "metadata": {
      "needs_background": "light"
     },
     "output_type": "display_data"
    },
    {
     "data": {
      "text/plain": [
       "<sigpy.plot.ImagePlot at 0x7f67e6f23820>"
      ]
     },
     "execution_count": 21,
     "metadata": {},
     "output_type": "execute_result"
    }
   ],
   "source": [
    "%matplotlib inline\n",
    "# Let's look at the final produced image\n",
    "im_est = transforms.tensor_to_complex_np(im_est_gpu.cpu().detach())\n",
    "im_true = transforms.tensor_to_complex_np(im_true_gpu.cpu().detach())\n",
    "\n",
    "pl.ImagePlot(im_est) # this is est image\n",
    "pl.ImagePlot(im_true) # this is true image\n",
    "\n",
    "# it produces some kind of similar images\n"
   ]
  },
  {
   "cell_type": "code",
   "execution_count": 43,
   "metadata": {},
   "outputs": [],
   "source": [
    "def count_parameters(model):\n",
    "    return sum(\n",
    "        p.numel() for p in model.parameters() if p.requires_grad\n",
    "    )\n",
    "\n",
    "def loss(im_us: torch.Tensor, im_fs: torch.Tensor):\n",
    "    '''\n",
    "    @parameter im_us: undersampled image (2D)\n",
    "    @parameter im_fs: fully sampled image (2D)\n",
    "    should be on GPU device for fast computation\n",
    "    '''\n",
    "    \n",
    "    # use l1 loss between two images\n",
    "    criterion = nn.L1Loss()\n",
    "    \n",
    "    # can add more fancy loss functions here later\n",
    "    \n",
    "    return criterion(im_us, im_fs)\n",
    "\n",
    "\n",
    "def metric(im_us: torch.Tensor, im_fs: torch.Tensor):\n",
    "    '''\n",
    "    @parameter im_us: undersampled image (2D)\n",
    "    @parameter im_fs: fully sampled image (2D)\n",
    "    should be on GPU device\n",
    "    '''\n",
    "    \n",
    "    # change to ndarray\n",
    "    im_us = transforms.tensor_to_complex_np(im_us.cpu().detach())\n",
    "    im_fs = transforms.tensor_to_complex_np(im_fs.cpu().detach())\n",
    "    \n",
    "    # convert complex nums to magnitude\n",
    "    im_us = np.absolute(im_us)\n",
    "    im_fs = np.absolute(im_fs)\n",
    "    \n",
    "    im_us = im_us.reshape(\n",
    "        (im_us.shape[2], im_us.shape[3])\n",
    "    )\n",
    "    \n",
    "    im_fs = im_fs.reshape(\n",
    "        (im_fs.shape[2], im_fs.shape[3])\n",
    "    )\n",
    "    \n",
    "    \n",
    "    print(im_us.shape, im_fs.shape)\n",
    "\n",
    "    \n",
    "    # ssim\n",
    "    ssim(im_fs, im_us)\n",
    "    \n",
    "    return psnr(im_fs, im_us)\n",
    "    # \n",
    "    \n",
    "    # psnr\n",
    "    "
   ]
  },
  {
   "cell_type": "code",
   "execution_count": 44,
   "metadata": {},
   "outputs": [
    {
     "name": "stdout",
     "output_type": "stream",
     "text": [
      "(577, 332) (577, 332)\n"
     ]
    },
    {
     "ename": "ValueError",
     "evalue": "im_true has intensity values outside the range expected for its data type.  Please manually specify the data_range",
     "output_type": "error",
     "traceback": [
      "\u001b[0;31m---------------------------------------------------------------------------\u001b[0m",
      "\u001b[0;31mValueError\u001b[0m                                Traceback (most recent call last)",
      "\u001b[0;32m<ipython-input-44-a901d6d7cbfa>\u001b[0m in \u001b[0;36m<module>\u001b[0;34m\u001b[0m\n\u001b[0;32m----> 1\u001b[0;31m \u001b[0mmetric\u001b[0m\u001b[0;34m(\u001b[0m\u001b[0mim_est_gpu\u001b[0m\u001b[0;34m,\u001b[0m \u001b[0mim_true_gpu\u001b[0m\u001b[0;34m)\u001b[0m\u001b[0;34m\u001b[0m\u001b[0;34m\u001b[0m\u001b[0m\n\u001b[0m",
      "\u001b[0;32m<ipython-input-43-ae0f5b3f6431>\u001b[0m in \u001b[0;36mmetric\u001b[0;34m(im_us, im_fs)\u001b[0m\n\u001b[1;32m     49\u001b[0m     \u001b[0mssim\u001b[0m\u001b[0;34m(\u001b[0m\u001b[0mim_fs\u001b[0m\u001b[0;34m,\u001b[0m \u001b[0mim_us\u001b[0m\u001b[0;34m)\u001b[0m\u001b[0;34m\u001b[0m\u001b[0;34m\u001b[0m\u001b[0m\n\u001b[1;32m     50\u001b[0m \u001b[0;34m\u001b[0m\u001b[0m\n\u001b[0;32m---> 51\u001b[0;31m     \u001b[0;32mreturn\u001b[0m \u001b[0mpsnr\u001b[0m\u001b[0;34m(\u001b[0m\u001b[0mim_fs\u001b[0m\u001b[0;34m,\u001b[0m \u001b[0mim_us\u001b[0m\u001b[0;34m)\u001b[0m\u001b[0;34m\u001b[0m\u001b[0;34m\u001b[0m\u001b[0m\n\u001b[0m\u001b[1;32m     52\u001b[0m     \u001b[0;31m#\u001b[0m\u001b[0;34m\u001b[0m\u001b[0;34m\u001b[0m\u001b[0;34m\u001b[0m\u001b[0m\n\u001b[1;32m     53\u001b[0m \u001b[0;34m\u001b[0m\u001b[0m\n",
      "\u001b[0;32m~/miniconda3/envs/multiTask/lib/python3.8/site-packages/skimage/metrics/simple_metrics.py\u001b[0m in \u001b[0;36mpeak_signal_noise_ratio\u001b[0;34m(image_true, image_test, data_range)\u001b[0m\n\u001b[1;32m    146\u001b[0m         \u001b[0mtrue_min\u001b[0m\u001b[0;34m,\u001b[0m \u001b[0mtrue_max\u001b[0m \u001b[0;34m=\u001b[0m \u001b[0mnp\u001b[0m\u001b[0;34m.\u001b[0m\u001b[0mmin\u001b[0m\u001b[0;34m(\u001b[0m\u001b[0mimage_true\u001b[0m\u001b[0;34m)\u001b[0m\u001b[0;34m,\u001b[0m \u001b[0mnp\u001b[0m\u001b[0;34m.\u001b[0m\u001b[0mmax\u001b[0m\u001b[0;34m(\u001b[0m\u001b[0mimage_true\u001b[0m\u001b[0;34m)\u001b[0m\u001b[0;34m\u001b[0m\u001b[0;34m\u001b[0m\u001b[0m\n\u001b[1;32m    147\u001b[0m         \u001b[0;32mif\u001b[0m \u001b[0mtrue_max\u001b[0m \u001b[0;34m>\u001b[0m \u001b[0mdmax\u001b[0m \u001b[0;32mor\u001b[0m \u001b[0mtrue_min\u001b[0m \u001b[0;34m<\u001b[0m \u001b[0mdmin\u001b[0m\u001b[0;34m:\u001b[0m\u001b[0;34m\u001b[0m\u001b[0;34m\u001b[0m\u001b[0m\n\u001b[0;32m--> 148\u001b[0;31m             raise ValueError(\n\u001b[0m\u001b[1;32m    149\u001b[0m                 \u001b[0;34m\"im_true has intensity values outside the range expected for \"\u001b[0m\u001b[0;34m\u001b[0m\u001b[0;34m\u001b[0m\u001b[0m\n\u001b[1;32m    150\u001b[0m                 \"its data type.  Please manually specify the data_range\")\n",
      "\u001b[0;31mValueError\u001b[0m: im_true has intensity values outside the range expected for its data type.  Please manually specify the data_range"
     ]
    }
   ],
   "source": [
    "metric(im_est_gpu, im_true_gpu)"
   ]
  },
  {
   "cell_type": "code",
   "execution_count": 49,
   "metadata": {},
   "outputs": [
    {
     "data": {
      "text/plain": [
       "tensor(-1.1609, device='cuda:2')"
      ]
     },
     "execution_count": 49,
     "metadata": {},
     "output_type": "execute_result"
    }
   ],
   "source": [
    "torch.min(im_true_gpu)"
   ]
  },
  {
   "cell_type": "code",
   "execution_count": 50,
   "metadata": {},
   "outputs": [
    {
     "data": {
      "text/plain": [
       "tensor(2.6529, device='cuda:2')"
      ]
     },
     "execution_count": 50,
     "metadata": {},
     "output_type": "execute_result"
    }
   ],
   "source": [
    "torch.max(im_true_gpu)"
   ]
  },
  {
   "cell_type": "code",
   "execution_count": 70,
   "metadata": {},
   "outputs": [
    {
     "data": {
      "text/plain": [
       "'0.18.1'"
      ]
     },
     "execution_count": 70,
     "metadata": {},
     "output_type": "execute_result"
    }
   ],
   "source": [
    "# single task wrapper\n",
    "skimage.__version__"
   ]
  },
  {
   "cell_type": "code",
   "execution_count": null,
   "metadata": {},
   "outputs": [],
   "source": [
    "skimage.metrics.normalized_root_mse(…[, …])\n",
    "\n",
    "\n",
    "\n",
    "skimage.metrics.peak_signal_noise_ratio(…)\n",
    "\n",
    "\n",
    "skimage.metrics.structural_similarity(im1, …)"
   ]
  },
  {
   "cell_type": "code",
   "execution_count": null,
   "metadata": {},
   "outputs": [],
   "source": []
  },
  {
   "cell_type": "code",
   "execution_count": null,
   "metadata": {},
   "outputs": [],
   "source": []
  },
  {
   "cell_type": "code",
   "execution_count": null,
   "metadata": {},
   "outputs": [],
   "source": []
  },
  {
   "cell_type": "code",
   "execution_count": null,
   "metadata": {},
   "outputs": [],
   "source": []
  },
  {
   "cell_type": "code",
   "execution_count": null,
   "metadata": {},
   "outputs": [],
   "source": []
  },
  {
   "cell_type": "code",
   "execution_count": null,
   "metadata": {},
   "outputs": [],
   "source": []
  },
  {
   "cell_type": "code",
   "execution_count": null,
   "metadata": {},
   "outputs": [],
   "source": []
  },
  {
   "cell_type": "code",
   "execution_count": null,
   "metadata": {},
   "outputs": [],
   "source": []
  },
  {
   "cell_type": "code",
   "execution_count": null,
   "metadata": {},
   "outputs": [],
   "source": []
  },
  {
   "cell_type": "code",
   "execution_count": null,
   "metadata": {},
   "outputs": [],
   "source": []
  },
  {
   "cell_type": "code",
   "execution_count": null,
   "metadata": {},
   "outputs": [],
   "source": []
  },
  {
   "cell_type": "code",
   "execution_count": null,
   "metadata": {},
   "outputs": [],
   "source": []
  },
  {
   "cell_type": "code",
   "execution_count": null,
   "metadata": {},
   "outputs": [],
   "source": []
  },
  {
   "cell_type": "code",
   "execution_count": null,
   "metadata": {},
   "outputs": [],
   "source": []
  },
  {
   "cell_type": "code",
   "execution_count": null,
   "metadata": {},
   "outputs": [],
   "source": []
  },
  {
   "cell_type": "code",
   "execution_count": null,
   "metadata": {},
   "outputs": [],
   "source": []
  },
  {
   "cell_type": "code",
   "execution_count": null,
   "metadata": {},
   "outputs": [],
   "source": []
  },
  {
   "cell_type": "code",
   "execution_count": null,
   "metadata": {},
   "outputs": [],
   "source": []
  },
  {
   "cell_type": "code",
   "execution_count": null,
   "metadata": {},
   "outputs": [],
   "source": []
  }
 ],
 "metadata": {
  "interpreter": {
   "hash": "568cf607fb1663ae5f6ca9795a3e49ea7987a37e32b3101a93f155d5c8f93f18"
  },
  "kernelspec": {
   "display_name": "Python 3",
   "language": "python",
   "name": "python3"
  },
  "language_info": {
   "codemirror_mode": {
    "name": "ipython",
    "version": 3
   },
   "file_extension": ".py",
   "mimetype": "text/x-python",
   "name": "python",
   "nbconvert_exporter": "python",
   "pygments_lexer": "ipython3",
   "version": "3.8.10"
  }
 },
 "nbformat": 4,
 "nbformat_minor": 2
}
